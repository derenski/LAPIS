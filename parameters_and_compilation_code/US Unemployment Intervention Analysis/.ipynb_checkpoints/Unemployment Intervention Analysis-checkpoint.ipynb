{
 "cells": [
  {
   "cell_type": "code",
   "execution_count": 1,
   "metadata": {},
   "outputs": [
    {
     "name": "stderr",
     "output_type": "stream",
     "text": [
      "\n",
      "Attaching package: ‘dplyr’\n",
      "\n",
      "\n",
      "The following objects are masked from ‘package:stats’:\n",
      "\n",
      "    filter, lag\n",
      "\n",
      "\n",
      "The following objects are masked from ‘package:base’:\n",
      "\n",
      "    intersect, setdiff, setequal, union\n",
      "\n",
      "\n",
      "\n",
      "Attaching package: ‘reshape’\n",
      "\n",
      "\n",
      "The following object is masked from ‘package:dplyr’:\n",
      "\n",
      "    rename\n",
      "\n",
      "\n",
      "\n",
      "Attaching package: ‘lubridate’\n",
      "\n",
      "\n",
      "The following object is masked from ‘package:reshape’:\n",
      "\n",
      "    stamp\n",
      "\n",
      "\n",
      "The following objects are masked from ‘package:dplyr’:\n",
      "\n",
      "    intersect, setdiff, union\n",
      "\n",
      "\n",
      "The following objects are masked from ‘package:base’:\n",
      "\n",
      "    date, intersect, setdiff, union\n",
      "\n",
      "\n",
      "\n",
      "Attaching package: ‘zoo’\n",
      "\n",
      "\n",
      "The following objects are masked from ‘package:base’:\n",
      "\n",
      "    as.Date, as.Date.numeric\n",
      "\n",
      "\n",
      "\n",
      "Attaching package: ‘MASS’\n",
      "\n",
      "\n",
      "The following object is masked from ‘package:dplyr’:\n",
      "\n",
      "    select\n",
      "\n",
      "\n",
      "\n",
      "Attaching package: ‘LaplacesDemon’\n",
      "\n",
      "\n",
      "The following objects are masked from ‘package:lubridate’:\n",
      "\n",
      "    dst, interval\n",
      "\n",
      "\n",
      "Registered S3 method overwritten by 'GGally':\n",
      "  method from   \n",
      "  +.gg   ggplot2\n",
      "\n",
      "Loading required package: foreach\n",
      "\n",
      "Loading required package: iterators\n",
      "\n",
      "Loading required package: parallel\n",
      "\n"
     ]
    }
   ],
   "source": [
    "library(ggplot2)\n",
    "library(readxl)\n",
    "library(stringr)\n",
    "library(dplyr)\n",
    "library(reshape)\n",
    "library(lubridate)\n",
    "library(zoo)\n",
    "library(MASS)\n",
    "library(LaplacesDemon)\n",
    "library(gsynth)\n",
    "library(doParallel)\n",
    "library(foreach)"
   ]
  },
  {
   "cell_type": "code",
   "execution_count": 2,
   "metadata": {},
   "outputs": [],
   "source": [
    "max_available_clusters <- detectCores()-1\n",
    "  \n",
    "desired_clusters <- 4\n",
    "  \n",
    "cl <- makeCluster(min(c(max_available_clusters, desired_clusters)))\n",
    "\n",
    "registerDoParallel(cl)"
   ]
  },
  {
   "cell_type": "code",
   "execution_count": 3,
   "metadata": {},
   "outputs": [
    {
     "name": "stderr",
     "output_type": "stream",
     "text": [
      "Loading required package: Matrix\n",
      "\n",
      "\n",
      "Attaching package: ‘Matrix’\n",
      "\n",
      "\n",
      "The following object is masked from ‘package:reshape’:\n",
      "\n",
      "    expand\n",
      "\n",
      "\n",
      "Loaded glmnet 3.0-2\n",
      "\n",
      "\n"
     ]
    }
   ],
   "source": [
    "source('../causal_inference_methods_code.R')"
   ]
  },
  {
   "cell_type": "code",
   "execution_count": 4,
   "metadata": {},
   "outputs": [],
   "source": [
    "max_available_clusters <- detectCores()-1\n",
    "  \n",
    "desired_clusters <- 4\n",
    "  \n",
    "cl <- makeCluster(min(c(max_available_clusters, desired_clusters)))\n",
    "\n",
    "registerDoParallel(cl)"
   ]
  },
  {
   "cell_type": "code",
   "execution_count": 5,
   "metadata": {},
   "outputs": [],
   "source": [
    "variableExpander <- function(keysAndVariable, unitKey, timeKey){ ### Expands into unit/time format\n",
    "  \n",
    "  orderedData <- keysAndVariable %>% arrange(get(unitKey), get(timeKey))\n",
    "  \n",
    "  outcomeName <- names(keysAndVariable)[!(names(keysAndVariable) %in% c(unitKey, timeKey))]\n",
    "  \n",
    "  outcomeMatrixForm <- matrix(NA, nrow=length(unique(keysAndVariable[, unitKey])), \n",
    "                              ncol=length(unique(keysAndVariable[, timeKey])), byrow=T)\n",
    "  \n",
    "  rownames(outcomeMatrixForm) <- unique(keysAndVariable[, unitKey])\n",
    "  \n",
    "  colnames(outcomeMatrixForm) <- str_replace_all(unique(keysAndVariable[, timeKey])[order(unique(keysAndVariable[, timeKey]))], pattern=\"-\", replace=\"\")\n",
    "  \n",
    "  for (index in 1:length(keysAndVariable[, unitKey])){\n",
    "    \n",
    "    outcomeMatrixForm[keysAndVariable[, unitKey][index], str_replace_all(keysAndVariable[, timeKey][index], pattern=\"-\", replace=\"\")] <- keysAndVariable[, outcomeName][index]\n",
    "    \n",
    "  }\n",
    "  \n",
    "  return(outcomeMatrixForm)\n",
    "  \n",
    "}"
   ]
  },
  {
   "cell_type": "code",
   "execution_count": 6,
   "metadata": {},
   "outputs": [],
   "source": [
    "seriesWithUnemploymentDecay <- function(aSeries, finalProp=.96, decayRate=.1, treatmentIndexer){ ### Creates treatment effect for implementation of drunk driving law\n",
    "    \n",
    "    if (length(aSeries) != length(treatmentIndexer)){\n",
    "        \n",
    "        stop(\"Series and Treatment Indexer Must be the Same Length.\")\n",
    "    }\n",
    "    \n",
    "    if (all(treatmentIndexer==0)){\n",
    "        \n",
    "        return(aSeries)\n",
    "        \n",
    "    }else{\n",
    "    \n",
    "        dataWhereTransformNeeded <- aSeries[treatmentIndexer==1]\n",
    "    \n",
    "        transformedPart <- finalProp*dataWhereTransformNeeded+(1-finalProp)*dataWhereTransformNeeded*exp(-1*decayRate*(1:length(dataWhereTransformNeeded)))\n",
    "        \n",
    "        aSeries[treatmentIndexer==1] <- transformedPart\n",
    "        \n",
    "        return(aSeries)\n",
    "        \n",
    "    }\n",
    "    \n",
    "}"
   ]
  },
  {
   "cell_type": "markdown",
   "metadata": {},
   "source": [
    "# Unemployment Data Provided by St. Louis Fed"
   ]
  },
  {
   "cell_type": "code",
   "execution_count": 7,
   "metadata": {},
   "outputs": [
    {
     "name": "stderr",
     "output_type": "stream",
     "text": [
      "Joining, by = c(\"series_id\", \"region_name\", \"region_code\")\n",
      "\n"
     ]
    }
   ],
   "source": [
    "firstSet <- read_excel('GeoFRED_Unemployment_Rate_by_County_Percent.xls', sheet=1)\n",
    "colnames(firstSet) <- tolower(str_replace_all(colnames(firstSet), pattern=' ', replace='_'))\n",
    "\n",
    "\n",
    "secondSet <- read_excel('GeoFRED_Unemployment_Rate_by_County_Percent.xls', sheet=2)\n",
    "colnames(secondSet) <- tolower(str_replace_all(colnames(secondSet), pattern=' ', replace='_'))\n",
    "\n",
    "fullSet <- (firstSet %>% inner_join(secondSet))\n",
    "\n",
    "fullSet <- fullSet[!apply(fullSet, MARGIN=1, FUN=function(x) any(is.na(x))), 1:(min(which(str_detect(colnames(fullSet), '2020')))-1)]\n",
    "\n",
    "justTimeSeriesData <- as.numeric(t(as.matrix(fullSet[4:dim(fullSet)[2]])))"
   ]
  },
  {
   "cell_type": "code",
   "execution_count": 8,
   "metadata": {},
   "outputs": [
    {
     "data": {
      "text/html": [
       "0"
      ],
      "text/latex": [
       "0"
      ],
      "text/markdown": [
       "0"
      ],
      "text/plain": [
       "[1] 0"
      ]
     },
     "metadata": {},
     "output_type": "display_data"
    }
   ],
   "source": [
    "sum(apply(fullSet, MARGIN=1, FUN=function(x) any(is.na(x))))"
   ]
  },
  {
   "cell_type": "code",
   "execution_count": 9,
   "metadata": {},
   "outputs": [],
   "source": [
    "allIds <- fullSet[, 1:3] %>% slice(rep(1:n(), each = length(4:dim(fullSet)[2])))"
   ]
  },
  {
   "cell_type": "code",
   "execution_count": 10,
   "metadata": {},
   "outputs": [],
   "source": [
    "meltedUnemploymentData <- cbind.data.frame(allIds, justTimeSeriesData)\n",
    "names(meltedUnemploymentData)[4] <- 'unemployment_rate'\n",
    "meltedUnemploymentData <- meltedUnemploymentData %>% \n",
    "mutate(region_designation=str_extract(region_name, pattern='^.*(?=\\\\,)'), \n",
    "       state=str_extract(region_name, pattern='[A-Z]{2}$'))"
   ]
  },
  {
   "cell_type": "code",
   "execution_count": 11,
   "metadata": {},
   "outputs": [],
   "source": [
    "timePoints <- seq(1990, 2019+(11/12), 1/12)"
   ]
  },
  {
   "cell_type": "code",
   "execution_count": 12,
   "metadata": {},
   "outputs": [],
   "source": [
    "meltedUnemploymentData <- meltedUnemploymentData %>% group_by(region_code) %>% \n",
    "mutate(time=timePoints, \n",
    "      seasonal_adjust_unemp = rollmean(unemployment_rate, 12, na.pad = TRUE)) %>% ungroup() %>% filter(!(state %in% c('AK', 'HI')))"
   ]
  },
  {
   "cell_type": "code",
   "execution_count": 13,
   "metadata": {},
   "outputs": [],
   "source": [
    "countiesToPlot <- 'Ventura|San Bernardino|Riverside|Los Angeles|Imperial|San Diego|Santa Barbara|Orange|San Luis Obispo|Kern'\n",
    "\n",
    "soCalData <- meltedUnemploymentData %>% filter(str_detect(region_designation, countiesToPlot) &\n",
    "                                              state=='CA')"
   ]
  },
  {
   "cell_type": "code",
   "execution_count": 14,
   "metadata": {},
   "outputs": [
    {
     "data": {
      "text/html": [
       "<style>\n",
       ".list-inline {list-style: none; margin:0; padding: 0}\n",
       ".list-inline>li {display: inline-block}\n",
       ".list-inline>li:not(:last-child)::after {content: \"\\00b7\"; padding: 0 .5ex}\n",
       "</style>\n",
       "<ol class=list-inline><li>'series_id'</li><li>'region_name'</li><li>'region_code'</li><li>'unemployment_rate'</li><li>'region_designation'</li><li>'state'</li><li>'time'</li><li>'seasonal_adjust_unemp'</li></ol>\n"
      ],
      "text/latex": [
       "\\begin{enumerate*}\n",
       "\\item 'series\\_id'\n",
       "\\item 'region\\_name'\n",
       "\\item 'region\\_code'\n",
       "\\item 'unemployment\\_rate'\n",
       "\\item 'region\\_designation'\n",
       "\\item 'state'\n",
       "\\item 'time'\n",
       "\\item 'seasonal\\_adjust\\_unemp'\n",
       "\\end{enumerate*}\n"
      ],
      "text/markdown": [
       "1. 'series_id'\n",
       "2. 'region_name'\n",
       "3. 'region_code'\n",
       "4. 'unemployment_rate'\n",
       "5. 'region_designation'\n",
       "6. 'state'\n",
       "7. 'time'\n",
       "8. 'seasonal_adjust_unemp'\n",
       "\n",
       "\n"
      ],
      "text/plain": [
       "[1] \"series_id\"             \"region_name\"           \"region_code\"          \n",
       "[4] \"unemployment_rate\"     \"region_designation\"    \"state\"                \n",
       "[7] \"time\"                  \"seasonal_adjust_unemp\""
      ]
     },
     "metadata": {},
     "output_type": "display_data"
    }
   ],
   "source": [
    "names(soCalData)"
   ]
  },
  {
   "cell_type": "code",
   "execution_count": 28,
   "metadata": {},
   "outputs": [],
   "source": [
    "socalUnempPlot <- ggplot(soCalData, aes(x=time, y=seasonal_adjust_unemp, col=region_designation)) + geom_line(lwd=1.5) + \n",
    "theme_bw(base_size=20) + ylab('Unemployment Rate (Seasonally Adjusted)') + xlab('Time') +\n",
    "guides(col=guide_legend(title=\"County\")) + ggtitle(\"Unemployment in Southern California\")"
   ]
  },
  {
   "cell_type": "code",
   "execution_count": 29,
   "metadata": {},
   "outputs": [
    {
     "name": "stderr",
     "output_type": "stream",
     "text": [
      "Warning message:\n",
      "“Removed 110 row(s) containing missing values (geom_path).”\n"
     ]
    },
    {
     "data": {
      "image/png": "[encoded data removed]",
      "text/plain": [
       "plot without title"
      ]
     },
     "metadata": {
      "image/png": {
       "height": 420,
       "width": 420
      },
      "text/plain": {
       "height": 420,
       "width": 420
      }
     },
     "output_type": "display_data"
    }
   ],
   "source": [
    "socalUnempPlot"
   ]
  },
  {
   "cell_type": "code",
   "execution_count": 16,
   "metadata": {},
   "outputs": [],
   "source": [
    "validSmoothedDataOnly <- meltedUnemploymentData %>% filter(!is.na(seasonal_adjust_unemp))"
   ]
  },
  {
   "cell_type": "code",
   "execution_count": 17,
   "metadata": {},
   "outputs": [],
   "source": [
    "fullOutcomeData <- variableExpander(data.frame(validSmoothedDataOnly[c('region_code', 'time', 'seasonal_adjust_unemp')]), unitKey='region_code', timeKey='time')"
   ]
  },
  {
   "cell_type": "code",
   "execution_count": 18,
   "metadata": {},
   "outputs": [
    {
     "data": {
      "text/html": [
       "0"
      ],
      "text/latex": [
       "0"
      ],
      "text/markdown": [
       "0"
      ],
      "text/plain": [
       "[1] 0"
      ]
     },
     "metadata": {},
     "output_type": "display_data"
    }
   ],
   "source": [
    "sum(is.na(fullOutcomeData))"
   ]
  },
  {
   "cell_type": "code",
   "execution_count": 19,
   "metadata": {},
   "outputs": [
    {
     "data": {
      "text/html": [
       "360"
      ],
      "text/latex": [
       "360"
      ],
      "text/markdown": [
       "360"
      ],
      "text/plain": [
       "[1] 360"
      ]
     },
     "metadata": {},
     "output_type": "display_data"
    }
   ],
   "source": [
    "unique(table(meltedUnemploymentData$region_code)) ### Verifies all series observed at all time points"
   ]
  },
  {
   "cell_type": "code",
   "execution_count": 20,
   "metadata": {},
   "outputs": [],
   "source": [
    "aCounty <- validSmoothedDataOnly %>% filter(region_designation=='Ventura County')"
   ]
  },
  {
   "cell_type": "code",
   "execution_count": 21,
   "metadata": {},
   "outputs": [],
   "source": [
    "recessionDates <- rbind(c(\"1990-07-01\", \"1991-03-01\"), \n",
    "                        c(\"2001-03-01\", \"2001-11-01\"), \n",
    "                        c(\"2007-12-01\", \"2009-06-01\"))\n",
    "\n"
   ]
  },
  {
   "cell_type": "code",
   "execution_count": 22,
   "metadata": {},
   "outputs": [
    {
     "data": {
      "text/html": [
       "<table>\n",
       "<caption>A matrix: 3 × 2 of type chr</caption>\n",
       "<tbody>\n",
       "\t<tr><td>1990-07-01</td><td>1991-03-01</td></tr>\n",
       "\t<tr><td>2001-03-01</td><td>2001-11-01</td></tr>\n",
       "\t<tr><td>2007-12-01</td><td>2009-06-01</td></tr>\n",
       "</tbody>\n",
       "</table>\n"
      ],
      "text/latex": [
       "A matrix: 3 × 2 of type chr\n",
       "\\begin{tabular}{ll}\n",
       "\t 1990-07-01 & 1991-03-01\\\\\n",
       "\t 2001-03-01 & 2001-11-01\\\\\n",
       "\t 2007-12-01 & 2009-06-01\\\\\n",
       "\\end{tabular}\n"
      ],
      "text/markdown": [
       "\n",
       "A matrix: 3 × 2 of type chr\n",
       "\n",
       "| 1990-07-01 | 1991-03-01 |\n",
       "| 2001-03-01 | 2001-11-01 |\n",
       "| 2007-12-01 | 2009-06-01 |\n",
       "\n"
      ],
      "text/plain": [
       "     [,1]       [,2]      \n",
       "[1,] 1990-07-01 1991-03-01\n",
       "[2,] 2001-03-01 2001-11-01\n",
       "[3,] 2007-12-01 2009-06-01"
      ]
     },
     "metadata": {},
     "output_type": "display_data"
    }
   ],
   "source": [
    "recessionDates"
   ]
  },
  {
   "cell_type": "markdown",
   "metadata": {},
   "source": [
    "# Generating an Artificial Treatment Design"
   ]
  },
  {
   "cell_type": "code",
   "execution_count": 23,
   "metadata": {},
   "outputs": [],
   "source": [
    "propTreat <- .2\n",
    "numberOfIterations <- 100\n",
    "timeConsidered=24"
   ]
  },
  {
   "cell_type": "code",
   "execution_count": 24,
   "metadata": {},
   "outputs": [
    {
     "name": "stderr",
     "output_type": "stream",
     "text": [
      "Joining, by = c(\"id\", \"time\")\n",
      "\n"
     ]
    },
    {
     "name": "stdout",
     "output_type": "stream",
     "text": [
      "Cross-validating ... \n",
      " r = 2; sigma2 = 0.72814; IC = -0.22796; MSPE = 0.79123\n",
      " r = 3; sigma2 = 0.56480; IC = -0.43737; MSPE = 0.60816\n",
      " r = 4; sigma2 = 0.42891; IC = -0.66802; MSPE = 0.47389\n",
      " r = 5; sigma2 = 0.35956; IC = -0.79986; MSPE = 0.39289\n",
      "\n",
      " r* = 5\n",
      "\n",
      "[1] 1\n"
     ]
    },
    {
     "name": "stderr",
     "output_type": "stream",
     "text": [
      "Joining, by = c(\"id\", \"time\")\n",
      "\n"
     ]
    },
    {
     "name": "stdout",
     "output_type": "stream",
     "text": [
      "Cross-validating ... \n",
      " r = 2; sigma2 = 0.74117; IC = -0.21022; MSPE = 0.72852\n",
      " r = 3; sigma2 = 0.57414; IC = -0.42097; MSPE = 0.56127\n",
      " r = 4; sigma2 = 0.43622; IC = -0.65112; MSPE = 0.44224\n",
      " r = 5; sigma2 = 0.36503; IC = -0.78474; MSPE = 0.37039\n",
      "\n",
      " r* = 5\n",
      "\n",
      "[1] 2\n"
     ]
    },
    {
     "name": "stderr",
     "output_type": "stream",
     "text": [
      "Joining, by = c(\"id\", \"time\")\n",
      "\n"
     ]
    },
    {
     "name": "stdout",
     "output_type": "stream",
     "text": [
      "Cross-validating ... \n",
      " r = 2; sigma2 = 0.72710; IC = -0.22938; MSPE = 0.78795\n",
      " r = 3; sigma2 = 0.56222; IC = -0.44196; MSPE = 0.61191\n",
      " r = 4; sigma2 = 0.43042; IC = -0.66450; MSPE = 0.46825\n",
      " r = 5; sigma2 = 0.35904; IC = -0.80129; MSPE = 0.39697\n",
      "\n",
      " r* = 5\n",
      "\n",
      "[1] 3\n"
     ]
    },
    {
     "name": "stderr",
     "output_type": "stream",
     "text": [
      "Joining, by = c(\"id\", \"time\")\n",
      "\n"
     ]
    },
    {
     "name": "stdout",
     "output_type": "stream",
     "text": [
      "Cross-validating ... \n",
      " r = 2; sigma2 = 0.74049; IC = -0.21114; MSPE = 0.73755\n",
      " r = 3; sigma2 = 0.56922; IC = -0.42958; MSPE = 0.59067\n",
      " r = 4; sigma2 = 0.42719; IC = -0.67204; MSPE = 0.48311\n",
      " r = 5; sigma2 = 0.35693; IC = -0.80718; MSPE = 0.40630\n",
      "\n",
      " r* = 5\n",
      "\n",
      "[1] 4\n"
     ]
    },
    {
     "name": "stderr",
     "output_type": "stream",
     "text": [
      "Joining, by = c(\"id\", \"time\")\n",
      "\n"
     ]
    },
    {
     "name": "stdout",
     "output_type": "stream",
     "text": [
      "Cross-validating ... \n",
      " r = 2; sigma2 = 0.74393; IC = -0.20650; MSPE = 0.71444\n",
      " r = 3; sigma2 = 0.57769; IC = -0.41481; MSPE = 0.54677\n",
      " r = 4; sigma2 = 0.43767; IC = -0.64781; MSPE = 0.43468\n",
      " r = 5; sigma2 = 0.36668; IC = -0.78024; MSPE = 0.36070\n",
      "\n",
      " r* = 5\n",
      "\n",
      "[1] 5\n"
     ]
    },
    {
     "name": "stderr",
     "output_type": "stream",
     "text": [
      "Joining, by = c(\"id\", \"time\")\n",
      "\n"
     ]
    },
    {
     "name": "stdout",
     "output_type": "stream",
     "text": [
      "Cross-validating ... \n",
      " r = 2; sigma2 = 0.75550; IC = -0.19106; MSPE = 0.67138\n",
      " r = 3; sigma2 = 0.58305; IC = -0.40557; MSPE = 0.52863\n",
      " r = 4; sigma2 = 0.44113; IC = -0.63993; MSPE = 0.42480\n",
      " r = 5; sigma2 = 0.36751; IC = -0.77797; MSPE = 0.36419\n",
      "\n",
      " r* = 5\n",
      "\n",
      "[1] 6\n"
     ]
    },
    {
     "name": "stderr",
     "output_type": "stream",
     "text": [
      "Joining, by = c(\"id\", \"time\")\n",
      "\n"
     ]
    },
    {
     "name": "stdout",
     "output_type": "stream",
     "text": [
      "Cross-validating ... \n",
      " r = 2; sigma2 = 0.73412; IC = -0.21978; MSPE = 0.75902\n",
      " r = 3; sigma2 = 0.56924; IC = -0.42954; MSPE = 0.58193\n",
      " r = 4; sigma2 = 0.43324; IC = -0.65798; MSPE = 0.45527\n",
      " r = 5; sigma2 = 0.36240; IC = -0.79198; MSPE = 0.38094\n",
      "\n",
      " r* = 5\n",
      "\n",
      "[1] 7\n"
     ]
    },
    {
     "name": "stderr",
     "output_type": "stream",
     "text": [
      "Joining, by = c(\"id\", \"time\")\n",
      "\n"
     ]
    },
    {
     "name": "stdout",
     "output_type": "stream",
     "text": [
      "Cross-validating ... \n",
      " r = 2; sigma2 = 0.73955; IC = -0.21240; MSPE = 0.74318\n",
      " r = 3; sigma2 = 0.57513; IC = -0.41925; MSPE = 0.56399\n",
      " r = 4; sigma2 = 0.43317; IC = -0.65814; MSPE = 0.45942\n",
      " r = 5; sigma2 = 0.36289; IC = -0.79063; MSPE = 0.38240\n",
      "\n",
      " r* = 5\n",
      "\n",
      "[1] 8\n"
     ]
    },
    {
     "name": "stderr",
     "output_type": "stream",
     "text": [
      "Joining, by = c(\"id\", \"time\")\n",
      "\n"
     ]
    },
    {
     "name": "stdout",
     "output_type": "stream",
     "text": [
      "Cross-validating ... \n",
      " r = 2; sigma2 = 0.72860; IC = -0.22732; MSPE = 0.78725\n",
      " r = 3; sigma2 = 0.56959; IC = -0.42894; MSPE = 0.58573\n",
      " r = 4; sigma2 = 0.43217; IC = -0.66044; MSPE = 0.46391\n",
      " r = 5; sigma2 = 0.36194; IC = -0.79325; MSPE = 0.38619\n",
      "\n",
      " r* = 5\n",
      "\n",
      "[1] 9\n"
     ]
    },
    {
     "name": "stderr",
     "output_type": "stream",
     "text": [
      "Joining, by = c(\"id\", \"time\")\n",
      "\n"
     ]
    },
    {
     "name": "stdout",
     "output_type": "stream",
     "text": [
      "Cross-validating ... \n",
      " r = 2; sigma2 = 0.71937; IC = -0.24007; MSPE = 0.81564\n",
      " r = 3; sigma2 = 0.56165; IC = -0.44297; MSPE = 0.60746\n",
      " r = 4; sigma2 = 0.43025; IC = -0.66491; MSPE = 0.46648\n",
      " r = 5; sigma2 = 0.35887; IC = -0.80178; MSPE = 0.39349\n",
      "\n",
      " r* = 5\n",
      "\n",
      "[1] 10\n"
     ]
    },
    {
     "name": "stderr",
     "output_type": "stream",
     "text": [
      "Joining, by = c(\"id\", \"time\")\n",
      "\n"
     ]
    },
    {
     "name": "stdout",
     "output_type": "stream",
     "text": [
      "Cross-validating ... \n",
      " r = 2; sigma2 = 0.74256; IC = -0.20834; MSPE = 0.72525\n",
      " r = 3; sigma2 = 0.57499; IC = -0.41949; MSPE = 0.56032\n",
      " r = 4; sigma2 = 0.43664; IC = -0.65015; MSPE = 0.44259\n",
      " r = 5; sigma2 = 0.36554; IC = -0.78336; MSPE = 0.36891\n",
      "\n",
      " r* = 5\n",
      "\n",
      "[1] 11\n"
     ]
    },
    {
     "name": "stderr",
     "output_type": "stream",
     "text": [
      "Joining, by = c(\"id\", \"time\")\n",
      "\n"
     ]
    },
    {
     "name": "stdout",
     "output_type": "stream",
     "text": [
      "Cross-validating ... \n",
      " r = 2; sigma2 = 0.72769; IC = -0.22858; MSPE = 0.78703\n",
      " r = 3; sigma2 = 0.56500; IC = -0.43702; MSPE = 0.60557\n",
      " r = 4; sigma2 = 0.42970; IC = -0.66619; MSPE = 0.46980\n",
      " r = 5; sigma2 = 0.35829; IC = -0.80338; MSPE = 0.39852\n",
      "\n",
      " r* = 5\n",
      "\n",
      "[1] 12\n"
     ]
    },
    {
     "name": "stderr",
     "output_type": "stream",
     "text": [
      "Joining, by = c(\"id\", \"time\")\n",
      "\n"
     ]
    },
    {
     "name": "stdout",
     "output_type": "stream",
     "text": [
      "Cross-validating ... \n",
      " r = 2; sigma2 = 0.73866; IC = -0.21361; MSPE = 0.73742\n",
      " r = 3; sigma2 = 0.57692; IC = -0.41614; MSPE = 0.54717\n",
      " r = 4; sigma2 = 0.43869; IC = -0.64548; MSPE = 0.42865\n",
      " r = 5; sigma2 = 0.36648; IC = -0.78077; MSPE = 0.36024\n",
      "\n",
      " r* = 5\n",
      "\n",
      "[1] 13\n"
     ]
    },
    {
     "name": "stderr",
     "output_type": "stream",
     "text": [
      "Joining, by = c(\"id\", \"time\")\n",
      "\n"
     ]
    },
    {
     "name": "stdout",
     "output_type": "stream",
     "text": [
      "Cross-validating ... \n",
      " r = 2; sigma2 = 0.72141; IC = -0.23724; MSPE = 0.81779\n",
      " r = 3; sigma2 = 0.56087; IC = -0.44436; MSPE = 0.62495\n",
      " r = 4; sigma2 = 0.42757; IC = -0.67115; MSPE = 0.48514\n",
      " r = 5; sigma2 = 0.35815; IC = -0.80378; MSPE = 0.40439\n",
      "\n",
      " r* = 5\n",
      "\n",
      "[1] 14\n"
     ]
    },
    {
     "name": "stderr",
     "output_type": "stream",
     "text": [
      "Joining, by = c(\"id\", \"time\")\n",
      "\n"
     ]
    },
    {
     "name": "stdout",
     "output_type": "stream",
     "text": [
      "Cross-validating ... \n",
      " r = 2; sigma2 = 0.73702; IC = -0.21584; MSPE = 0.74712\n",
      " r = 3; sigma2 = 0.57512; IC = -0.41927; MSPE = 0.55764\n",
      " r = 4; sigma2 = 0.43619; IC = -0.65119; MSPE = 0.44045\n",
      " r = 5; sigma2 = 0.36511; IC = -0.78453; MSPE = 0.36815\n",
      "\n",
      " r* = 5\n",
      "\n",
      "[1] 15\n"
     ]
    },
    {
     "name": "stderr",
     "output_type": "stream",
     "text": [
      "Joining, by = c(\"id\", \"time\")\n",
      "\n"
     ]
    },
    {
     "name": "stdout",
     "output_type": "stream",
     "text": [
      "Cross-validating ... \n",
      " r = 2; sigma2 = 0.74139; IC = -0.20992; MSPE = 0.72718\n",
      " r = 3; sigma2 = 0.57497; IC = -0.41953; MSPE = 0.55887\n",
      " r = 4; sigma2 = 0.43796; IC = -0.64714; MSPE = 0.43469\n",
      " r = 5; sigma2 = 0.36699; IC = -0.77938; MSPE = 0.36032\n",
      "\n",
      " r* = 5\n",
      "\n",
      "[1] 16\n"
     ]
    },
    {
     "name": "stderr",
     "output_type": "stream",
     "text": [
      "Joining, by = c(\"id\", \"time\")\n",
      "\n"
     ]
    },
    {
     "name": "stdout",
     "output_type": "stream",
     "text": [
      "Cross-validating ... \n",
      " r = 2; sigma2 = 0.74429; IC = -0.20602; MSPE = 0.72149\n",
      " r = 3; sigma2 = 0.58164; IC = -0.40800; MSPE = 0.53525\n",
      " r = 4; sigma2 = 0.44064; IC = -0.64105; MSPE = 0.42309\n",
      " r = 5; sigma2 = 0.36963; IC = -0.77222; MSPE = 0.34943\n",
      "\n",
      " r* = 5\n",
      "\n",
      "[1] 17\n"
     ]
    },
    {
     "name": "stderr",
     "output_type": "stream",
     "text": [
      "Joining, by = c(\"id\", \"time\")\n",
      "\n"
     ]
    },
    {
     "name": "stdout",
     "output_type": "stream",
     "text": [
      "Cross-validating ... \n",
      " r = 2; sigma2 = 0.73618; IC = -0.21698; MSPE = 0.75329\n",
      " r = 3; sigma2 = 0.57029; IC = -0.42769; MSPE = 0.58338\n",
      " r = 4; sigma2 = 0.43060; IC = -0.66409; MSPE = 0.46689\n",
      " r = 5; sigma2 = 0.35953; IC = -0.79994; MSPE = 0.39382\n",
      "\n",
      " r* = 5\n",
      "\n",
      "[1] 18\n"
     ]
    },
    {
     "name": "stderr",
     "output_type": "stream",
     "text": [
      "Joining, by = c(\"id\", \"time\")\n",
      "\n"
     ]
    },
    {
     "name": "stdout",
     "output_type": "stream",
     "text": [
      "Cross-validating ... \n",
      " r = 2; sigma2 = 0.75142; IC = -0.19649; MSPE = 0.68228\n",
      " r = 3; sigma2 = 0.57896; IC = -0.41260; MSPE = 0.54075\n",
      " r = 4; sigma2 = 0.44165; IC = -0.63876; MSPE = 0.41875\n",
      " r = 5; sigma2 = 0.36879; IC = -0.77451; MSPE = 0.35393\n",
      "\n",
      " r* = 5\n",
      "\n",
      "[1] 19\n"
     ]
    },
    {
     "name": "stderr",
     "output_type": "stream",
     "text": [
      "Joining, by = c(\"id\", \"time\")\n",
      "\n"
     ]
    },
    {
     "name": "stdout",
     "output_type": "stream",
     "text": [
      "Cross-validating ... \n",
      " r = 2; sigma2 = 0.72952; IC = -0.22606; MSPE = 0.77864\n",
      " r = 3; sigma2 = 0.57081; IC = -0.42678; MSPE = 0.57698\n",
      " r = 4; sigma2 = 0.43404; IC = -0.65613; MSPE = 0.44857\n",
      " r = 5; sigma2 = 0.36372; IC = -0.78835; MSPE = 0.37158\n",
      "\n",
      " r* = 5\n",
      "\n",
      "[1] 20\n"
     ]
    },
    {
     "name": "stderr",
     "output_type": "stream",
     "text": [
      "Joining, by = c(\"id\", \"time\")\n",
      "\n"
     ]
    },
    {
     "name": "stdout",
     "output_type": "stream",
     "text": [
      "Cross-validating ... \n",
      " r = 2; sigma2 = 0.73759; IC = -0.21505; MSPE = 0.74242\n",
      " r = 3; sigma2 = 0.56645; IC = -0.43445; MSPE = 0.59475\n",
      " r = 4; sigma2 = 0.43179; IC = -0.66134; MSPE = 0.45993\n",
      " r = 5; sigma2 = 0.36183; IC = -0.79354; MSPE = 0.38235\n",
      "\n",
      " r* = 5\n",
      "\n",
      "[1] 21\n"
     ]
    },
    {
     "name": "stderr",
     "output_type": "stream",
     "text": [
      "Joining, by = c(\"id\", \"time\")\n",
      "\n"
     ]
    },
    {
     "name": "stdout",
     "output_type": "stream",
     "text": [
      "Cross-validating ... \n",
      " r = 2; sigma2 = 0.73748; IC = -0.21521; MSPE = 0.75073\n",
      " r = 3; sigma2 = 0.57856; IC = -0.41330; MSPE = 0.54827\n",
      " r = 4; sigma2 = 0.43809; IC = -0.64685; MSPE = 0.43705\n",
      " r = 5; sigma2 = 0.36656; IC = -0.78056; MSPE = 0.36600\n",
      "\n",
      " r* = 5\n",
      "\n",
      "[1] 22\n"
     ]
    },
    {
     "name": "stderr",
     "output_type": "stream",
     "text": [
      "Joining, by = c(\"id\", \"time\")\n",
      "\n"
     ]
    },
    {
     "name": "stdout",
     "output_type": "stream",
     "text": [
      "Cross-validating ... \n",
      " r = 2; sigma2 = 0.72306; IC = -0.23495; MSPE = 0.80278\n",
      " r = 3; sigma2 = 0.56378; IC = -0.43917; MSPE = 0.60859\n",
      " r = 4; sigma2 = 0.43430; IC = -0.65554; MSPE = 0.45082\n",
      " r = 5; sigma2 = 0.36222; IC = -0.79247; MSPE = 0.38250\n",
      "\n",
      " r* = 5\n",
      "\n",
      "[1] 23\n"
     ]
    },
    {
     "name": "stderr",
     "output_type": "stream",
     "text": [
      "Joining, by = c(\"id\", \"time\")\n",
      "\n"
     ]
    },
    {
     "name": "stdout",
     "output_type": "stream",
     "text": [
      "Cross-validating ... \n",
      " r = 2; sigma2 = 0.74477; IC = -0.20537; MSPE = 0.71851\n",
      " r = 3; sigma2 = 0.57846; IC = -0.41347; MSPE = 0.54874\n",
      " r = 4; sigma2 = 0.43847; IC = -0.64598; MSPE = 0.43514\n",
      " r = 5; sigma2 = 0.36661; IC = -0.78043; MSPE = 0.36434\n",
      "\n",
      " r* = 5\n",
      "\n",
      "[1] 24\n"
     ]
    },
    {
     "name": "stderr",
     "output_type": "stream",
     "text": [
      "Joining, by = c(\"id\", \"time\")\n",
      "\n"
     ]
    },
    {
     "name": "stdout",
     "output_type": "stream",
     "text": [
      "Cross-validating ... \n",
      " r = 2; sigma2 = 0.73856; IC = -0.21374; MSPE = 0.73965\n",
      " r = 3; sigma2 = 0.57168; IC = -0.42526; MSPE = 0.57217\n",
      " r = 4; sigma2 = 0.43231; IC = -0.66011; MSPE = 0.46028\n",
      " r = 5; sigma2 = 0.36218; IC = -0.79258; MSPE = 0.38257\n",
      "\n",
      " r* = 5\n",
      "\n",
      "[1] 25\n"
     ]
    },
    {
     "name": "stderr",
     "output_type": "stream",
     "text": [
      "Joining, by = c(\"id\", \"time\")\n",
      "\n"
     ]
    },
    {
     "name": "stdout",
     "output_type": "stream",
     "text": [
      "Cross-validating ... \n",
      " r = 2; sigma2 = 0.74338; IC = -0.20725; MSPE = 0.72546\n",
      " r = 3; sigma2 = 0.57480; IC = -0.41982; MSPE = 0.56560\n",
      " r = 4; sigma2 = 0.43288; IC = -0.65880; MSPE = 0.45865\n",
      " r = 5; sigma2 = 0.36196; IC = -0.79320; MSPE = 0.38426\n",
      "\n",
      " r* = 5\n",
      "\n",
      "[1] 26\n"
     ]
    },
    {
     "name": "stderr",
     "output_type": "stream",
     "text": [
      "Joining, by = c(\"id\", \"time\")\n",
      "\n"
     ]
    },
    {
     "name": "stdout",
     "output_type": "stream",
     "text": [
      "Cross-validating ... \n",
      " r = 2; sigma2 = 0.74592; IC = -0.20383; MSPE = 0.72025\n",
      " r = 3; sigma2 = 0.58091; IC = -0.40926; MSPE = 0.54459\n",
      " r = 4; sigma2 = 0.43819; IC = -0.64661; MSPE = 0.43580\n",
      " r = 5; sigma2 = 0.36733; IC = -0.77846; MSPE = 0.36128\n",
      "\n",
      " r* = 5\n",
      "\n",
      "[1] 27\n"
     ]
    },
    {
     "name": "stderr",
     "output_type": "stream",
     "text": [
      "Joining, by = c(\"id\", \"time\")\n",
      "\n"
     ]
    },
    {
     "name": "stdout",
     "output_type": "stream",
     "text": [
      "Cross-validating ... \n",
      " r = 2; sigma2 = 0.73096; IC = -0.22410; MSPE = 0.77663\n",
      " r = 3; sigma2 = 0.56793; IC = -0.43185; MSPE = 0.59194\n",
      " r = 4; sigma2 = 0.43157; IC = -0.66185; MSPE = 0.46075\n",
      " r = 5; sigma2 = 0.35923; IC = -0.80075; MSPE = 0.39390\n",
      "\n",
      " r* = 5\n",
      "\n",
      "[1] 28\n"
     ]
    },
    {
     "name": "stderr",
     "output_type": "stream",
     "text": [
      "Joining, by = c(\"id\", \"time\")\n",
      "\n"
     ]
    },
    {
     "name": "stdout",
     "output_type": "stream",
     "text": [
      "Cross-validating ... \n",
      " r = 2; sigma2 = 0.74611; IC = -0.20357; MSPE = 0.71136\n",
      " r = 3; sigma2 = 0.58036; IC = -0.41019; MSPE = 0.53858\n",
      " r = 4; sigma2 = 0.43970; IC = -0.64318; MSPE = 0.42559\n",
      " r = 5; sigma2 = 0.36728; IC = -0.77859; MSPE = 0.35874\n",
      "\n",
      " r* = 5\n",
      "\n",
      "[1] 29\n"
     ]
    },
    {
     "name": "stderr",
     "output_type": "stream",
     "text": [
      "Joining, by = c(\"id\", \"time\")\n",
      "\n"
     ]
    },
    {
     "name": "stdout",
     "output_type": "stream",
     "text": [
      "Cross-validating ... \n",
      " r = 2; sigma2 = 0.72074; IC = -0.23817; MSPE = 0.81834\n",
      " r = 3; sigma2 = 0.56196; IC = -0.44241; MSPE = 0.61424\n",
      " r = 4; sigma2 = 0.42351; IC = -0.68069; MSPE = 0.49779\n",
      " r = 5; sigma2 = 0.35448; IC = -0.81407; MSPE = 0.41656\n",
      "\n",
      " r* = 5\n",
      "\n",
      "[1] 30\n"
     ]
    },
    {
     "name": "stderr",
     "output_type": "stream",
     "text": [
      "Joining, by = c(\"id\", \"time\")\n",
      "\n"
     ]
    },
    {
     "name": "stdout",
     "output_type": "stream",
     "text": [
      "Cross-validating ... \n",
      " r = 2; sigma2 = 0.73056; IC = -0.22464; MSPE = 0.77307\n",
      " r = 3; sigma2 = 0.56971; IC = -0.42872; MSPE = 0.57917\n",
      " r = 4; sigma2 = 0.43224; IC = -0.66030; MSPE = 0.45841\n",
      " r = 5; sigma2 = 0.36163; IC = -0.79409; MSPE = 0.38242\n",
      "\n",
      " r* = 5\n",
      "\n",
      "[1] 31\n"
     ]
    },
    {
     "name": "stderr",
     "output_type": "stream",
     "text": [
      "Joining, by = c(\"id\", \"time\")\n",
      "\n"
     ]
    },
    {
     "name": "stdout",
     "output_type": "stream",
     "text": [
      "Cross-validating ... \n",
      " r = 2; sigma2 = 0.71800; IC = -0.24197; MSPE = 0.82216\n",
      " r = 3; sigma2 = 0.55508; IC = -0.45474; MSPE = 0.63811\n",
      " r = 4; sigma2 = 0.42224; IC = -0.68369; MSPE = 0.50041\n",
      " r = 5; sigma2 = 0.35258; IC = -0.81945; MSPE = 0.42080\n",
      "\n",
      " r* = 5\n",
      "\n",
      "[1] 32\n"
     ]
    },
    {
     "name": "stderr",
     "output_type": "stream",
     "text": [
      "Joining, by = c(\"id\", \"time\")\n",
      "\n"
     ]
    },
    {
     "name": "stdout",
     "output_type": "stream",
     "text": [
      "Cross-validating ... \n",
      " r = 2; sigma2 = 0.73178; IC = -0.22297; MSPE = 0.76557\n",
      " r = 3; sigma2 = 0.56890; IC = -0.43013; MSPE = 0.58302\n",
      " r = 4; sigma2 = 0.43098; IC = -0.66322; MSPE = 0.46342\n",
      " r = 5; sigma2 = 0.35799; IC = -0.80422; MSPE = 0.40177\n",
      "\n",
      " r* = 5\n",
      "\n",
      "[1] 33\n"
     ]
    },
    {
     "name": "stderr",
     "output_type": "stream",
     "text": [
      "Joining, by = c(\"id\", \"time\")\n",
      "\n"
     ]
    },
    {
     "name": "stdout",
     "output_type": "stream",
     "text": [
      "Cross-validating ... \n",
      " r = 2; sigma2 = 0.74079; IC = -0.21073; MSPE = 0.72874\n",
      " r = 3; sigma2 = 0.57700; IC = -0.41599; MSPE = 0.54720\n",
      " r = 4; sigma2 = 0.44017; IC = -0.64211; MSPE = 0.42347\n",
      " r = 5; sigma2 = 0.36697; IC = -0.77943; MSPE = 0.35967\n",
      "\n",
      " r* = 5\n",
      "\n",
      "[1] 34\n"
     ]
    },
    {
     "name": "stderr",
     "output_type": "stream",
     "text": [
      "Joining, by = c(\"id\", \"time\")\n",
      "\n"
     ]
    },
    {
     "name": "stdout",
     "output_type": "stream",
     "text": [
      "Cross-validating ... \n",
      " r = 2; sigma2 = 0.73167; IC = -0.22312; MSPE = 0.77156\n",
      " r = 3; sigma2 = 0.57185; IC = -0.42497; MSPE = 0.57340\n",
      " r = 4; sigma2 = 0.43233; IC = -0.66009; MSPE = 0.45714\n",
      " r = 5; sigma2 = 0.36290; IC = -0.79061; MSPE = 0.37725\n",
      "\n",
      " r* = 5\n",
      "\n",
      "[1] 35\n"
     ]
    },
    {
     "name": "stderr",
     "output_type": "stream",
     "text": [
      "Joining, by = c(\"id\", \"time\")\n",
      "\n"
     ]
    },
    {
     "name": "stdout",
     "output_type": "stream",
     "text": [
      "Cross-validating ... \n",
      " r = 2; sigma2 = 0.73980; IC = -0.21207; MSPE = 0.73590\n",
      " r = 3; sigma2 = 0.57622; IC = -0.41735; MSPE = 0.55426\n",
      " r = 4; sigma2 = 0.43757; IC = -0.64804; MSPE = 0.43922\n",
      " r = 5; sigma2 = 0.36723; IC = -0.77874; MSPE = 0.36355\n",
      "\n",
      " r* = 5\n",
      "\n",
      "[1] 36\n"
     ]
    },
    {
     "name": "stderr",
     "output_type": "stream",
     "text": [
      "Joining, by = c(\"id\", \"time\")\n",
      "\n"
     ]
    },
    {
     "name": "stdout",
     "output_type": "stream",
     "text": [
      "Cross-validating ... \n",
      " r = 2; sigma2 = 0.72597; IC = -0.23094; MSPE = 0.80023\n",
      " r = 3; sigma2 = 0.56584; IC = -0.43553; MSPE = 0.60312\n",
      " r = 4; sigma2 = 0.42823; IC = -0.66962; MSPE = 0.47807\n",
      " r = 5; sigma2 = 0.35928; IC = -0.80062; MSPE = 0.39530\n",
      "\n",
      " r* = 5\n",
      "\n",
      "[1] 37\n"
     ]
    },
    {
     "name": "stderr",
     "output_type": "stream",
     "text": [
      "Joining, by = c(\"id\", \"time\")\n",
      "\n"
     ]
    },
    {
     "name": "stdout",
     "output_type": "stream",
     "text": [
      "Cross-validating ... \n",
      " r = 2; sigma2 = 0.73745; IC = -0.21525; MSPE = 0.75328\n",
      " r = 3; sigma2 = 0.57179; IC = -0.42508; MSPE = 0.58134\n",
      " r = 4; sigma2 = 0.43146; IC = -0.66209; MSPE = 0.46399\n",
      " r = 5; sigma2 = 0.36033; IC = -0.79770; MSPE = 0.39129\n",
      "\n",
      " r* = 5\n",
      "\n",
      "[1] 38\n"
     ]
    },
    {
     "name": "stderr",
     "output_type": "stream",
     "text": [
      "Joining, by = c(\"id\", \"time\")\n",
      "\n"
     ]
    },
    {
     "name": "stdout",
     "output_type": "stream",
     "text": [
      "Cross-validating ... \n",
      " r = 2; sigma2 = 0.73336; IC = -0.22081; MSPE = 0.76717\n",
      " r = 3; sigma2 = 0.57528; IC = -0.41899; MSPE = 0.56144\n",
      " r = 4; sigma2 = 0.43603; IC = -0.65155; MSPE = 0.44332\n",
      " r = 5; sigma2 = 0.36460; IC = -0.78592; MSPE = 0.37102\n",
      "\n",
      " r* = 5\n",
      "\n",
      "[1] 39\n"
     ]
    },
    {
     "name": "stderr",
     "output_type": "stream",
     "text": [
      "Joining, by = c(\"id\", \"time\")\n",
      "\n"
     ]
    },
    {
     "name": "stdout",
     "output_type": "stream",
     "text": [
      "Cross-validating ... \n",
      " r = 2; sigma2 = 0.73553; IC = -0.21785; MSPE = 0.75925\n",
      " r = 3; sigma2 = 0.57384; IC = -0.42149; MSPE = 0.56842\n",
      " r = 4; sigma2 = 0.43364; IC = -0.65705; MSPE = 0.45673\n",
      " r = 5; sigma2 = 0.36311; IC = -0.79003; MSPE = 0.37978\n",
      "\n",
      " r* = 5\n",
      "\n",
      "[1] 40\n"
     ]
    },
    {
     "name": "stderr",
     "output_type": "stream",
     "text": [
      "Joining, by = c(\"id\", \"time\")\n",
      "\n"
     ]
    },
    {
     "name": "stdout",
     "output_type": "stream",
     "text": [
      "Cross-validating ... \n",
      " r = 2; sigma2 = 0.72688; IC = -0.22969; MSPE = 0.79136\n",
      " r = 3; sigma2 = 0.56816; IC = -0.43144; MSPE = 0.58965\n",
      " r = 4; sigma2 = 0.43120; IC = -0.66270; MSPE = 0.46224\n",
      " r = 5; sigma2 = 0.36124; IC = -0.79517; MSPE = 0.38551\n",
      "\n",
      " r* = 5\n",
      "\n",
      "[1] 41\n"
     ]
    },
    {
     "name": "stderr",
     "output_type": "stream",
     "text": [
      "Joining, by = c(\"id\", \"time\")\n",
      "\n"
     ]
    },
    {
     "name": "stdout",
     "output_type": "stream",
     "text": [
      "Cross-validating ... \n",
      " r = 2; sigma2 = 0.73442; IC = -0.21937; MSPE = 0.75891\n",
      " r = 3; sigma2 = 0.57006; IC = -0.42809; MSPE = 0.58104\n",
      " r = 4; sigma2 = 0.43341; IC = -0.65757; MSPE = 0.45790\n",
      " r = 5; sigma2 = 0.36210; IC = -0.79282; MSPE = 0.38585\n",
      "\n",
      " r* = 5\n",
      "\n",
      "[1] 42\n"
     ]
    },
    {
     "name": "stderr",
     "output_type": "stream",
     "text": [
      "Joining, by = c(\"id\", \"time\")\n",
      "\n"
     ]
    },
    {
     "name": "stdout",
     "output_type": "stream",
     "text": [
      "Cross-validating ... \n",
      " r = 2; sigma2 = 0.73798; IC = -0.21453; MSPE = 0.74199\n",
      " r = 3; sigma2 = 0.57504; IC = -0.41940; MSPE = 0.55823\n",
      " r = 4; sigma2 = 0.43684; IC = -0.64971; MSPE = 0.43905\n",
      " r = 5; sigma2 = 0.36473; IC = -0.78558; MSPE = 0.37013\n",
      "\n",
      " r* = 5\n",
      "\n",
      "[1] 43\n"
     ]
    },
    {
     "name": "stderr",
     "output_type": "stream",
     "text": [
      "Joining, by = c(\"id\", \"time\")\n",
      "\n"
     ]
    },
    {
     "name": "stdout",
     "output_type": "stream",
     "text": [
      "Cross-validating ... \n",
      " r = 2; sigma2 = 0.73089; IC = -0.22418; MSPE = 0.77496\n",
      " r = 3; sigma2 = 0.56895; IC = -0.43005; MSPE = 0.58560\n",
      " r = 4; sigma2 = 0.43123; IC = -0.66263; MSPE = 0.46387\n",
      " r = 5; sigma2 = 0.36151; IC = -0.79443; MSPE = 0.38489\n",
      "\n",
      " r* = 5\n",
      "\n",
      "[1] 44\n"
     ]
    },
    {
     "name": "stderr",
     "output_type": "stream",
     "text": [
      "Joining, by = c(\"id\", \"time\")\n",
      "\n"
     ]
    },
    {
     "name": "stdout",
     "output_type": "stream",
     "text": [
      "Cross-validating ... \n",
      " r = 2; sigma2 = 0.73519; IC = -0.21832; MSPE = 0.75522\n",
      " r = 3; sigma2 = 0.56956; IC = -0.42898; MSPE = 0.58117\n",
      " r = 4; sigma2 = 0.43578; IC = -0.65213; MSPE = 0.44404\n",
      " r = 5; sigma2 = 0.36431; IC = -0.78673; MSPE = 0.37264\n",
      "\n",
      " r* = 5\n",
      "\n",
      "[1] 45\n"
     ]
    },
    {
     "name": "stderr",
     "output_type": "stream",
     "text": [
      "Joining, by = c(\"id\", \"time\")\n",
      "\n"
     ]
    },
    {
     "name": "stdout",
     "output_type": "stream",
     "text": [
      "Cross-validating ... \n",
      " r = 2; sigma2 = 0.72841; IC = -0.22758; MSPE = 0.78888\n",
      " r = 3; sigma2 = 0.56540; IC = -0.43631; MSPE = 0.60411\n",
      " r = 4; sigma2 = 0.42860; IC = -0.66875; MSPE = 0.47909\n",
      " r = 5; sigma2 = 0.35810; IC = -0.80393; MSPE = 0.40248\n",
      "\n",
      " r* = 5\n",
      "\n",
      "[1] 46\n"
     ]
    },
    {
     "name": "stderr",
     "output_type": "stream",
     "text": [
      "Joining, by = c(\"id\", \"time\")\n",
      "\n"
     ]
    },
    {
     "name": "stdout",
     "output_type": "stream",
     "text": [
      "Cross-validating ... \n",
      " r = 2; sigma2 = 0.72815; IC = -0.22795; MSPE = 0.78732\n",
      " r = 3; sigma2 = 0.56164; IC = -0.44298; MSPE = 0.61800\n",
      " r = 4; sigma2 = 0.42753; IC = -0.67125; MSPE = 0.48184\n",
      " r = 5; sigma2 = 0.35740; IC = -0.80586; MSPE = 0.40532\n",
      "\n",
      " r* = 5\n",
      "\n",
      "[1] 47\n"
     ]
    },
    {
     "name": "stderr",
     "output_type": "stream",
     "text": [
      "Joining, by = c(\"id\", \"time\")\n",
      "\n"
     ]
    },
    {
     "name": "stdout",
     "output_type": "stream",
     "text": [
      "Cross-validating ... \n",
      " r = 2; sigma2 = 0.75206; IC = -0.19563; MSPE = 0.68361\n",
      " r = 3; sigma2 = 0.58033; IC = -0.41025; MSPE = 0.53779\n",
      " r = 4; sigma2 = 0.44070; IC = -0.64091; MSPE = 0.42407\n",
      " r = 5; sigma2 = 0.36915; IC = -0.77352; MSPE = 0.35266\n",
      "\n",
      " r* = 5\n",
      "\n",
      "[1] 48\n"
     ]
    },
    {
     "name": "stderr",
     "output_type": "stream",
     "text": [
      "Joining, by = c(\"id\", \"time\")\n",
      "\n"
     ]
    },
    {
     "name": "stdout",
     "output_type": "stream",
     "text": [
      "Cross-validating ... \n",
      " r = 2; sigma2 = 0.74653; IC = -0.20302; MSPE = 0.71285\n",
      " r = 3; sigma2 = 0.57700; IC = -0.41600; MSPE = 0.55818\n",
      " r = 4; sigma2 = 0.43561; IC = -0.65252; MSPE = 0.44940\n",
      " r = 5; sigma2 = 0.36563; IC = -0.78310; MSPE = 0.37373\n",
      "\n",
      " r* = 5\n",
      "\n",
      "[1] 49\n"
     ]
    },
    {
     "name": "stderr",
     "output_type": "stream",
     "text": [
      "Joining, by = c(\"id\", \"time\")\n",
      "\n"
     ]
    },
    {
     "name": "stdout",
     "output_type": "stream",
     "text": [
      "Cross-validating ... \n",
      " r = 2; sigma2 = 0.73255; IC = -0.22192; MSPE = 0.76048\n",
      " r = 3; sigma2 = 0.56670; IC = -0.43401; MSPE = 0.58826\n",
      " r = 4; sigma2 = 0.43069; IC = -0.66388; MSPE = 0.46630\n",
      " r = 5; sigma2 = 0.36021; IC = -0.79803; MSPE = 0.38988\n",
      "\n",
      " r* = 5\n",
      "\n",
      "[1] 50\n"
     ]
    },
    {
     "name": "stderr",
     "output_type": "stream",
     "text": [
      "Joining, by = c(\"id\", \"time\")\n",
      "\n"
     ]
    },
    {
     "name": "stdout",
     "output_type": "stream",
     "text": [
      "Cross-validating ... \n",
      " r = 2; sigma2 = 0.73210; IC = -0.22253; MSPE = 0.77100\n",
      " r = 3; sigma2 = 0.56690; IC = -0.43366; MSPE = 0.59751\n",
      " r = 4; sigma2 = 0.43181; IC = -0.66128; MSPE = 0.46035\n",
      " r = 5; sigma2 = 0.35974; IC = -0.79933; MSPE = 0.39226\n",
      "\n",
      " r* = 5\n",
      "\n",
      "[1] 51\n"
     ]
    },
    {
     "name": "stderr",
     "output_type": "stream",
     "text": [
      "Joining, by = c(\"id\", \"time\")\n",
      "\n"
     ]
    },
    {
     "name": "stdout",
     "output_type": "stream",
     "text": [
      "Cross-validating ... \n",
      " r = 2; sigma2 = 0.74280; IC = -0.20802; MSPE = 0.72489\n",
      " r = 3; sigma2 = 0.57614; IC = -0.41749; MSPE = 0.55620\n",
      " r = 4; sigma2 = 0.43659; IC = -0.65029; MSPE = 0.44266\n",
      " r = 5; sigma2 = 0.36467; IC = -0.78572; MSPE = 0.37289\n",
      "\n",
      " r* = 5\n",
      "\n",
      "[1] 52\n"
     ]
    },
    {
     "name": "stderr",
     "output_type": "stream",
     "text": [
      "Joining, by = c(\"id\", \"time\")\n",
      "\n"
     ]
    },
    {
     "name": "stdout",
     "output_type": "stream",
     "text": [
      "Cross-validating ... \n",
      " r = 2; sigma2 = 0.73409; IC = -0.21982; MSPE = 0.75995\n",
      " r = 3; sigma2 = 0.57050; IC = -0.42733; MSPE = 0.57912\n",
      " r = 4; sigma2 = 0.43361; IC = -0.65712; MSPE = 0.45502\n",
      " r = 5; sigma2 = 0.36155; IC = -0.79431; MSPE = 0.38585\n",
      "\n",
      " r* = 5\n",
      "\n",
      "[1] 53\n"
     ]
    },
    {
     "name": "stderr",
     "output_type": "stream",
     "text": [
      "Joining, by = c(\"id\", \"time\")\n",
      "\n"
     ]
    },
    {
     "name": "stdout",
     "output_type": "stream",
     "text": [
      "Cross-validating ... \n",
      " r = 2; sigma2 = 0.73935; IC = -0.21267; MSPE = 0.73838\n",
      " r = 3; sigma2 = 0.57365; IC = -0.42183; MSPE = 0.56476\n",
      " r = 4; sigma2 = 0.43756; IC = -0.64805; MSPE = 0.43874\n",
      " r = 5; sigma2 = 0.36830; IC = -0.77583; MSPE = 0.35719\n",
      "\n",
      " r* = 5\n",
      "\n",
      "[1] 54\n"
     ]
    },
    {
     "name": "stderr",
     "output_type": "stream",
     "text": [
      "Joining, by = c(\"id\", \"time\")\n",
      "\n"
     ]
    },
    {
     "name": "stdout",
     "output_type": "stream",
     "text": [
      "Cross-validating ... \n",
      " r = 2; sigma2 = 0.73386; IC = -0.22014; MSPE = 0.75734\n",
      " r = 3; sigma2 = 0.56662; IC = -0.43415; MSPE = 0.59108\n",
      " r = 4; sigma2 = 0.42980; IC = -0.66594; MSPE = 0.47015\n",
      " r = 5; sigma2 = 0.35963; IC = -0.79964; MSPE = 0.39289\n",
      "\n",
      " r* = 5\n",
      "\n",
      "[1] 55\n"
     ]
    },
    {
     "name": "stderr",
     "output_type": "stream",
     "text": [
      "Joining, by = c(\"id\", \"time\")\n",
      "\n"
     ]
    },
    {
     "name": "stdout",
     "output_type": "stream",
     "text": [
      "Cross-validating ... \n",
      " r = 2; sigma2 = 0.73838; IC = -0.21399; MSPE = 0.74286\n",
      " r = 3; sigma2 = 0.57443; IC = -0.42046; MSPE = 0.56268\n",
      " r = 4; sigma2 = 0.43769; IC = -0.64776; MSPE = 0.43619\n",
      " r = 5; sigma2 = 0.36618; IC = -0.78159; MSPE = 0.36431\n",
      "\n",
      " r* = 5\n",
      "\n",
      "[1] 56\n"
     ]
    },
    {
     "name": "stderr",
     "output_type": "stream",
     "text": [
      "Joining, by = c(\"id\", \"time\")\n",
      "\n"
     ]
    },
    {
     "name": "stdout",
     "output_type": "stream",
     "text": [
      "Cross-validating ... \n",
      " r = 2; sigma2 = 0.73346; IC = -0.22068; MSPE = 0.76267\n",
      " r = 3; sigma2 = 0.56715; IC = -0.43322; MSPE = 0.59342\n",
      " r = 4; sigma2 = 0.43139; IC = -0.66226; MSPE = 0.46508\n",
      " r = 5; sigma2 = 0.35993; IC = -0.79882; MSPE = 0.39339\n",
      "\n",
      " r* = 5\n",
      "\n",
      "[1] 57\n"
     ]
    },
    {
     "name": "stderr",
     "output_type": "stream",
     "text": [
      "Joining, by = c(\"id\", \"time\")\n",
      "\n"
     ]
    },
    {
     "name": "stdout",
     "output_type": "stream",
     "text": [
      "Cross-validating ... \n",
      " r = 2; sigma2 = 0.73832; IC = -0.21407; MSPE = 0.74677\n",
      " r = 3; sigma2 = 0.57236; IC = -0.42408; MSPE = 0.57683\n",
      " r = 4; sigma2 = 0.43099; IC = -0.66317; MSPE = 0.46522\n",
      " r = 5; sigma2 = 0.36068; IC = -0.79673; MSPE = 0.38902\n",
      "\n",
      " r* = 5\n",
      "\n",
      "[1] 58\n"
     ]
    },
    {
     "name": "stderr",
     "output_type": "stream",
     "text": [
      "Joining, by = c(\"id\", \"time\")\n",
      "\n"
     ]
    },
    {
     "name": "stdout",
     "output_type": "stream",
     "text": [
      "Cross-validating ... \n",
      " r = 2; sigma2 = 0.73036; IC = -0.22491; MSPE = 0.77760\n",
      " r = 3; sigma2 = 0.56692; IC = -0.43362; MSPE = 0.59539\n",
      " r = 4; sigma2 = 0.42987; IC = -0.66578; MSPE = 0.47297\n",
      " r = 5; sigma2 = 0.35917; IC = -0.80094; MSPE = 0.39718\n",
      "\n",
      " r* = 5\n",
      "\n",
      "[1] 59\n"
     ]
    },
    {
     "name": "stderr",
     "output_type": "stream",
     "text": [
      "Joining, by = c(\"id\", \"time\")\n",
      "\n"
     ]
    },
    {
     "name": "stdout",
     "output_type": "stream",
     "text": [
      "Cross-validating ... \n",
      " r = 2; sigma2 = 0.72365; IC = -0.23414; MSPE = 0.80236\n",
      " r = 3; sigma2 = 0.56565; IC = -0.43587; MSPE = 0.59796\n",
      " r = 4; sigma2 = 0.43047; IC = -0.66440; MSPE = 0.46763\n",
      " r = 5; sigma2 = 0.35986; IC = -0.79901; MSPE = 0.39277\n",
      "\n",
      " r* = 5\n",
      "\n",
      "[1] 60\n"
     ]
    },
    {
     "name": "stderr",
     "output_type": "stream",
     "text": [
      "Joining, by = c(\"id\", \"time\")\n",
      "\n"
     ]
    },
    {
     "name": "stdout",
     "output_type": "stream",
     "text": [
      "Cross-validating ... \n",
      " r = 2; sigma2 = 0.73591; IC = -0.21735; MSPE = 0.75380\n",
      " r = 3; sigma2 = 0.57123; IC = -0.42606; MSPE = 0.57696\n",
      " r = 4; sigma2 = 0.43388; IC = -0.65651; MSPE = 0.45547\n",
      " r = 5; sigma2 = 0.36426; IC = -0.78685; MSPE = 0.37563\n",
      "\n",
      " r* = 5\n",
      "\n",
      "[1] 61\n"
     ]
    },
    {
     "name": "stderr",
     "output_type": "stream",
     "text": [
      "Joining, by = c(\"id\", \"time\")\n",
      "\n"
     ]
    },
    {
     "name": "stdout",
     "output_type": "stream",
     "text": [
      "Cross-validating ... \n",
      " r = 2; sigma2 = 0.71746; IC = -0.24273; MSPE = 0.83420\n",
      " r = 3; sigma2 = 0.55654; IC = -0.45210; MSPE = 0.64032\n",
      " r = 4; sigma2 = 0.42274; IC = -0.68252; MSPE = 0.50338\n",
      " r = 5; sigma2 = 0.35688; IC = -0.80733; MSPE = 0.40667\n",
      "\n",
      " r* = 5\n",
      "\n",
      "[1] 62\n"
     ]
    },
    {
     "name": "stderr",
     "output_type": "stream",
     "text": [
      "Joining, by = c(\"id\", \"time\")\n",
      "\n"
     ]
    },
    {
     "name": "stdout",
     "output_type": "stream",
     "text": [
      "Cross-validating ... \n",
      " r = 2; sigma2 = 0.72961; IC = -0.22594; MSPE = 0.78077\n",
      " r = 3; sigma2 = 0.56390; IC = -0.43897; MSPE = 0.60815\n",
      " r = 4; sigma2 = 0.42895; IC = -0.66792; MSPE = 0.47273\n",
      " r = 5; sigma2 = 0.35810; IC = -0.80391; MSPE = 0.39794\n",
      "\n",
      " r* = 5\n",
      "\n",
      "[1] 63\n"
     ]
    },
    {
     "name": "stderr",
     "output_type": "stream",
     "text": [
      "Joining, by = c(\"id\", \"time\")\n",
      "\n"
     ]
    },
    {
     "name": "stdout",
     "output_type": "stream",
     "text": [
      "Cross-validating ... \n",
      " r = 2; sigma2 = 0.73670; IC = -0.21627; MSPE = 0.74599\n",
      " r = 3; sigma2 = 0.56578; IC = -0.43564; MSPE = 0.59600\n",
      " r = 4; sigma2 = 0.43036; IC = -0.66464; MSPE = 0.46782\n",
      " r = 5; sigma2 = 0.35888; IC = -0.80174; MSPE = 0.39570\n",
      "\n",
      " r* = 5\n",
      "\n",
      "[1] 64\n"
     ]
    },
    {
     "name": "stderr",
     "output_type": "stream",
     "text": [
      "Joining, by = c(\"id\", \"time\")\n",
      "\n"
     ]
    },
    {
     "name": "stdout",
     "output_type": "stream",
     "text": [
      "Cross-validating ... \n",
      " r = 2; sigma2 = 0.71177; IC = -0.25069; MSPE = 0.86214\n",
      " r = 3; sigma2 = 0.55521; IC = -0.45450; MSPE = 0.65362\n",
      " r = 4; sigma2 = 0.41664; IC = -0.69705; MSPE = 0.53142\n",
      " r = 5; sigma2 = 0.34760; IC = -0.83367; MSPE = 0.45229\n",
      "\n",
      " r* = 5\n",
      "\n",
      "[1] 65\n"
     ]
    },
    {
     "name": "stderr",
     "output_type": "stream",
     "text": [
      "Joining, by = c(\"id\", \"time\")\n",
      "\n"
     ]
    },
    {
     "name": "stdout",
     "output_type": "stream",
     "text": [
      "Cross-validating ... \n",
      " r = 2; sigma2 = 0.72978; IC = -0.22570; MSPE = 0.77574\n",
      " r = 3; sigma2 = 0.56373; IC = -0.43928; MSPE = 0.60509\n",
      " r = 4; sigma2 = 0.42663; IC = -0.67335; MSPE = 0.48266\n",
      " r = 5; sigma2 = 0.35792; IC = -0.80441; MSPE = 0.39880\n",
      "\n",
      " r* = 5\n",
      "\n",
      "[1] 66\n"
     ]
    },
    {
     "name": "stderr",
     "output_type": "stream",
     "text": [
      "Joining, by = c(\"id\", \"time\")\n",
      "\n"
     ]
    },
    {
     "name": "stdout",
     "output_type": "stream",
     "text": [
      "Cross-validating ... \n",
      " r = 2; sigma2 = 0.73040; IC = -0.22486; MSPE = 0.77251\n",
      " r = 3; sigma2 = 0.56322; IC = -0.44018; MSPE = 0.60649\n",
      " r = 4; sigma2 = 0.43043; IC = -0.66448; MSPE = 0.46780\n",
      " r = 5; sigma2 = 0.36117; IC = -0.79539; MSPE = 0.38775\n",
      "\n",
      " r* = 5\n",
      "\n",
      "[1] 67\n"
     ]
    },
    {
     "name": "stderr",
     "output_type": "stream",
     "text": [
      "Joining, by = c(\"id\", \"time\")\n",
      "\n"
     ]
    },
    {
     "name": "stdout",
     "output_type": "stream",
     "text": [
      "Cross-validating ... \n",
      " r = 2; sigma2 = 0.73349; IC = -0.22064; MSPE = 0.75939\n",
      " r = 3; sigma2 = 0.56727; IC = -0.43301; MSPE = 0.58883\n",
      " r = 4; sigma2 = 0.43223; IC = -0.66031; MSPE = 0.45795\n",
      " r = 5; sigma2 = 0.36102; IC = -0.79578; MSPE = 0.38687\n",
      "\n",
      " r* = 5\n",
      "\n",
      "[1] 68\n"
     ]
    },
    {
     "name": "stderr",
     "output_type": "stream",
     "text": [
      "Joining, by = c(\"id\", \"time\")\n",
      "\n"
     ]
    },
    {
     "name": "stdout",
     "output_type": "stream",
     "text": [
      "Cross-validating ... \n",
      " r = 2; sigma2 = 0.72484; IC = -0.23249; MSPE = 0.80382\n",
      " r = 3; sigma2 = 0.56204; IC = -0.44227; MSPE = 0.62081\n",
      " r = 4; sigma2 = 0.42510; IC = -0.67694; MSPE = 0.49369\n",
      " r = 5; sigma2 = 0.35556; IC = -0.81104; MSPE = 0.41288\n",
      "\n",
      " r* = 5\n",
      "\n",
      "[1] 69\n"
     ]
    },
    {
     "name": "stderr",
     "output_type": "stream",
     "text": [
      "Joining, by = c(\"id\", \"time\")\n",
      "\n"
     ]
    },
    {
     "name": "stdout",
     "output_type": "stream",
     "text": [
      "Cross-validating ... \n",
      " r = 2; sigma2 = 0.74334; IC = -0.20730; MSPE = 0.72701\n",
      " r = 3; sigma2 = 0.57718; IC = -0.41569; MSPE = 0.55670\n",
      " r = 4; sigma2 = 0.43623; IC = -0.65110; MSPE = 0.44249\n",
      " r = 5; sigma2 = 0.36423; IC = -0.78694; MSPE = 0.37259\n",
      "\n",
      " r* = 5\n",
      "\n",
      "[1] 70\n"
     ]
    },
    {
     "name": "stderr",
     "output_type": "stream",
     "text": [
      "Joining, by = c(\"id\", \"time\")\n",
      "\n"
     ]
    },
    {
     "name": "stdout",
     "output_type": "stream",
     "text": [
      "Cross-validating ... \n",
      " r = 2; sigma2 = 0.74375; IC = -0.20675; MSPE = 0.71739\n",
      " r = 3; sigma2 = 0.57481; IC = -0.41981; MSPE = 0.55964\n",
      " r = 4; sigma2 = 0.43310; IC = -0.65831; MSPE = 0.45554\n",
      " r = 5; sigma2 = 0.36191; IC = -0.79332; MSPE = 0.38673\n",
      "\n",
      " r* = 5\n",
      "\n",
      "[1] 71\n"
     ]
    },
    {
     "name": "stderr",
     "output_type": "stream",
     "text": [
      "Joining, by = c(\"id\", \"time\")\n",
      "\n"
     ]
    },
    {
     "name": "stdout",
     "output_type": "stream",
     "text": [
      "Cross-validating ... \n",
      " r = 2; sigma2 = 0.73079; IC = -0.22432; MSPE = 0.78333\n",
      " r = 3; sigma2 = 0.57257; IC = -0.42371; MSPE = 0.57309\n",
      " r = 4; sigma2 = 0.43472; IC = -0.65457; MSPE = 0.45225\n",
      " r = 5; sigma2 = 0.36437; IC = -0.78655; MSPE = 0.37484\n",
      "\n",
      " r* = 5\n",
      "\n",
      "[1] 72\n"
     ]
    },
    {
     "name": "stderr",
     "output_type": "stream",
     "text": [
      "Joining, by = c(\"id\", \"time\")\n",
      "\n"
     ]
    },
    {
     "name": "stdout",
     "output_type": "stream",
     "text": [
      "Cross-validating ... \n",
      " r = 2; sigma2 = 0.72300; IC = -0.23503; MSPE = 0.80510\n",
      " r = 3; sigma2 = 0.55643; IC = -0.45230; MSPE = 0.63621\n",
      " r = 4; sigma2 = 0.42165; IC = -0.68510; MSPE = 0.50457\n",
      " r = 5; sigma2 = 0.35146; IC = -0.82263; MSPE = 0.42721\n",
      "\n",
      " r* = 5\n",
      "\n",
      "[1] 73\n"
     ]
    },
    {
     "name": "stderr",
     "output_type": "stream",
     "text": [
      "Joining, by = c(\"id\", \"time\")\n",
      "\n"
     ]
    },
    {
     "name": "stdout",
     "output_type": "stream",
     "text": [
      "Cross-validating ... \n",
      " r = 2; sigma2 = 0.71759; IC = -0.24255; MSPE = 0.82223\n",
      " r = 3; sigma2 = 0.56323; IC = -0.44016; MSPE = 0.60059\n",
      " r = 4; sigma2 = 0.42747; IC = -0.67139; MSPE = 0.47601\n",
      " r = 5; sigma2 = 0.35667; IC = -0.80792; MSPE = 0.40146\n",
      "\n",
      " r* = 5\n",
      "\n",
      "[1] 74\n"
     ]
    },
    {
     "name": "stderr",
     "output_type": "stream",
     "text": [
      "Joining, by = c(\"id\", \"time\")\n",
      "\n"
     ]
    },
    {
     "name": "stdout",
     "output_type": "stream",
     "text": [
      "Cross-validating ... \n",
      " r = 2; sigma2 = 0.73452; IC = -0.21923; MSPE = 0.75118\n",
      " r = 3; sigma2 = 0.56291; IC = -0.44072; MSPE = 0.60451\n",
      " r = 4; sigma2 = 0.43066; IC = -0.66395; MSPE = 0.46388\n",
      " r = 5; sigma2 = 0.35912; IC = -0.80108; MSPE = 0.39159\n",
      "\n",
      " r* = 5\n",
      "\n",
      "[1] 75\n"
     ]
    },
    {
     "name": "stderr",
     "output_type": "stream",
     "text": [
      "Joining, by = c(\"id\", \"time\")\n",
      "\n"
     ]
    },
    {
     "name": "stdout",
     "output_type": "stream",
     "text": [
      "Cross-validating ... \n",
      " r = 2; sigma2 = 0.73291; IC = -0.22143; MSPE = 0.77608\n",
      " r = 3; sigma2 = 0.57312; IC = -0.42274; MSPE = 0.57798\n",
      " r = 4; sigma2 = 0.43654; IC = -0.65038; MSPE = 0.44450\n",
      " r = 5; sigma2 = 0.36712; IC = -0.77905; MSPE = 0.36273\n",
      "\n",
      " r* = 5\n",
      "\n",
      "[1] 76\n"
     ]
    },
    {
     "name": "stderr",
     "output_type": "stream",
     "text": [
      "Joining, by = c(\"id\", \"time\")\n",
      "\n"
     ]
    },
    {
     "name": "stdout",
     "output_type": "stream",
     "text": [
      "Cross-validating ... \n",
      " r = 2; sigma2 = 0.72631; IC = -0.23047; MSPE = 0.79256\n",
      " r = 3; sigma2 = 0.56672; IC = -0.43397; MSPE = 0.59283\n",
      " r = 4; sigma2 = 0.42995; IC = -0.66559; MSPE = 0.47101\n",
      " r = 5; sigma2 = 0.35939; IC = -0.80032; MSPE = 0.39588\n",
      "\n",
      " r* = 5\n",
      "\n",
      "[1] 77\n"
     ]
    },
    {
     "name": "stderr",
     "output_type": "stream",
     "text": [
      "Joining, by = c(\"id\", \"time\")\n",
      "\n"
     ]
    },
    {
     "name": "stdout",
     "output_type": "stream",
     "text": [
      "Cross-validating ... \n",
      " r = 2; sigma2 = 0.74744; IC = -0.20179; MSPE = 0.70857\n",
      " r = 3; sigma2 = 0.57833; IC = -0.41370; MSPE = 0.55071\n",
      " r = 4; sigma2 = 0.43421; IC = -0.65575; MSPE = 0.45279\n",
      " r = 5; sigma2 = 0.36163; IC = -0.79409; MSPE = 0.38553\n",
      "\n",
      " r* = 5\n",
      "\n",
      "[1] 78\n"
     ]
    },
    {
     "name": "stderr",
     "output_type": "stream",
     "text": [
      "Joining, by = c(\"id\", \"time\")\n",
      "\n"
     ]
    },
    {
     "name": "stdout",
     "output_type": "stream",
     "text": [
      "Cross-validating ... \n",
      " r = 2; sigma2 = 0.73200; IC = -0.22267; MSPE = 0.77427\n",
      " r = 3; sigma2 = 0.57064; IC = -0.42708; MSPE = 0.58170\n",
      " r = 4; sigma2 = 0.43264; IC = -0.65936; MSPE = 0.45897\n",
      " r = 5; sigma2 = 0.36192; IC = -0.79331; MSPE = 0.38465\n",
      "\n",
      " r* = 5\n",
      "\n",
      "[1] 79\n"
     ]
    },
    {
     "name": "stderr",
     "output_type": "stream",
     "text": [
      "Joining, by = c(\"id\", \"time\")\n",
      "\n"
     ]
    },
    {
     "name": "stdout",
     "output_type": "stream",
     "text": [
      "Cross-validating ... \n",
      " r = 2; sigma2 = 0.73730; IC = -0.21545; MSPE = 0.74939\n",
      " r = 3; sigma2 = 0.56978; IC = -0.42859; MSPE = 0.58434\n",
      " r = 4; sigma2 = 0.42787; IC = -0.67046; MSPE = 0.47866\n",
      " r = 5; sigma2 = 0.35777; IC = -0.80484; MSPE = 0.40009\n",
      "\n",
      " r* = 5\n",
      "\n",
      "[1] 80\n"
     ]
    },
    {
     "name": "stderr",
     "output_type": "stream",
     "text": [
      "Joining, by = c(\"id\", \"time\")\n",
      "\n"
     ]
    },
    {
     "name": "stdout",
     "output_type": "stream",
     "text": [
      "Cross-validating ... \n",
      " r = 2; sigma2 = 0.74045; IC = -0.21118; MSPE = 0.73814\n",
      " r = 3; sigma2 = 0.57386; IC = -0.42145; MSPE = 0.57020\n",
      " r = 4; sigma2 = 0.43545; IC = -0.65288; MSPE = 0.44570\n",
      " r = 5; sigma2 = 0.36525; IC = -0.78414; MSPE = 0.36824\n",
      "\n",
      " r* = 5\n",
      "\n",
      "[1] 81\n"
     ]
    },
    {
     "name": "stderr",
     "output_type": "stream",
     "text": [
      "Joining, by = c(\"id\", \"time\")\n",
      "\n"
     ]
    },
    {
     "name": "stdout",
     "output_type": "stream",
     "text": [
      "Cross-validating ... \n",
      " r = 2; sigma2 = 0.74704; IC = -0.20233; MSPE = 0.70635\n",
      " r = 3; sigma2 = 0.57897; IC = -0.41259; MSPE = 0.54322\n",
      " r = 4; sigma2 = 0.44161; IC = -0.63884; MSPE = 0.42063\n",
      " r = 5; sigma2 = 0.37057; IC = -0.76967; MSPE = 0.34654\n",
      "\n",
      " r* = 5\n",
      "\n",
      "[1] 82\n"
     ]
    },
    {
     "name": "stderr",
     "output_type": "stream",
     "text": [
      "Joining, by = c(\"id\", \"time\")\n",
      "\n"
     ]
    },
    {
     "name": "stdout",
     "output_type": "stream",
     "text": [
      "Cross-validating ... \n",
      " r = 2; sigma2 = 0.74754; IC = -0.20166; MSPE = 0.70965\n",
      " r = 3; sigma2 = 0.57766; IC = -0.41486; MSPE = 0.55370\n",
      " r = 4; sigma2 = 0.43562; IC = -0.65251; MSPE = 0.44761\n",
      " r = 5; sigma2 = 0.36422; IC = -0.78697; MSPE = 0.37544\n",
      "\n",
      " r* = 5\n",
      "\n",
      "[1] 83\n"
     ]
    },
    {
     "name": "stderr",
     "output_type": "stream",
     "text": [
      "Joining, by = c(\"id\", \"time\")\n",
      "\n"
     ]
    },
    {
     "name": "stdout",
     "output_type": "stream",
     "text": [
      "Cross-validating ... \n",
      " r = 2; sigma2 = 0.74109; IC = -0.21033; MSPE = 0.73096\n",
      " r = 3; sigma2 = 0.57295; IC = -0.42304; MSPE = 0.56897\n",
      " r = 4; sigma2 = 0.43525; IC = -0.65334; MSPE = 0.44778\n",
      " r = 5; sigma2 = 0.36479; IC = -0.78541; MSPE = 0.37155\n",
      "\n",
      " r* = 5\n",
      "\n",
      "[1] 84\n"
     ]
    },
    {
     "name": "stderr",
     "output_type": "stream",
     "text": [
      "Joining, by = c(\"id\", \"time\")\n",
      "\n"
     ]
    },
    {
     "name": "stdout",
     "output_type": "stream",
     "text": [
      "Cross-validating ... \n",
      " r = 2; sigma2 = 0.75122; IC = -0.19675; MSPE = 0.68924\n",
      " r = 3; sigma2 = 0.58458; IC = -0.40295; MSPE = 0.52163\n",
      " r = 4; sigma2 = 0.44189; IC = -0.63820; MSPE = 0.41865\n",
      " r = 5; sigma2 = 0.37106; IC = -0.76836; MSPE = 0.34596\n",
      "\n",
      " r* = 5\n",
      "\n",
      "[1] 85\n"
     ]
    },
    {
     "name": "stderr",
     "output_type": "stream",
     "text": [
      "Joining, by = c(\"id\", \"time\")\n",
      "\n"
     ]
    },
    {
     "name": "stdout",
     "output_type": "stream",
     "text": [
      "Cross-validating ... \n",
      " r = 2; sigma2 = 0.73895; IC = -0.21322; MSPE = 0.74470\n",
      " r = 3; sigma2 = 0.57276; IC = -0.42337; MSPE = 0.57485\n",
      " r = 4; sigma2 = 0.43247; IC = -0.65976; MSPE = 0.45928\n",
      " r = 5; sigma2 = 0.36305; IC = -0.79019; MSPE = 0.37884\n",
      "\n",
      " r* = 5\n",
      "\n",
      "[1] 86\n"
     ]
    },
    {
     "name": "stderr",
     "output_type": "stream",
     "text": [
      "Joining, by = c(\"id\", \"time\")\n",
      "\n"
     ]
    },
    {
     "name": "stdout",
     "output_type": "stream",
     "text": [
      "Cross-validating ... \n",
      " r = 2; sigma2 = 0.73050; IC = -0.22472; MSPE = 0.78195\n",
      " r = 3; sigma2 = 0.56623; IC = -0.43484; MSPE = 0.60415\n",
      " r = 4; sigma2 = 0.42949; IC = -0.66668; MSPE = 0.46998\n",
      " r = 5; sigma2 = 0.35865; IC = -0.80238; MSPE = 0.39645\n",
      "\n",
      " r* = 5\n",
      "\n",
      "[1] 87\n"
     ]
    },
    {
     "name": "stderr",
     "output_type": "stream",
     "text": [
      "Joining, by = c(\"id\", \"time\")\n",
      "\n"
     ]
    },
    {
     "name": "stdout",
     "output_type": "stream",
     "text": [
      "Cross-validating ... \n",
      " r = 2; sigma2 = 0.73868; IC = -0.21358; MSPE = 0.74465\n",
      " r = 3; sigma2 = 0.57426; IC = -0.42076; MSPE = 0.56576\n",
      " r = 4; sigma2 = 0.43272; IC = -0.65919; MSPE = 0.45708\n",
      " r = 5; sigma2 = 0.36151; IC = -0.79443; MSPE = 0.38477\n",
      "\n",
      " r* = 5\n",
      "\n",
      "[1] 88\n"
     ]
    },
    {
     "name": "stderr",
     "output_type": "stream",
     "text": [
      "Joining, by = c(\"id\", \"time\")\n",
      "\n"
     ]
    },
    {
     "name": "stdout",
     "output_type": "stream",
     "text": [
      "Cross-validating ... \n",
      " r = 2; sigma2 = 0.73941; IC = -0.21260; MSPE = 0.73946\n",
      " r = 3; sigma2 = 0.57366; IC = -0.42181; MSPE = 0.56690\n",
      " r = 4; sigma2 = 0.43676; IC = -0.64988; MSPE = 0.43932\n",
      " r = 5; sigma2 = 0.36560; IC = -0.78319; MSPE = 0.36667\n",
      "\n",
      " r* = 5\n",
      "\n",
      "[1] 89\n"
     ]
    },
    {
     "name": "stderr",
     "output_type": "stream",
     "text": [
      "Joining, by = c(\"id\", \"time\")\n",
      "\n"
     ]
    },
    {
     "name": "stdout",
     "output_type": "stream",
     "text": [
      "Cross-validating ... \n",
      " r = 2; sigma2 = 0.73793; IC = -0.21460; MSPE = 0.74534\n",
      " r = 3; sigma2 = 0.57196; IC = -0.42477; MSPE = 0.57378\n",
      " r = 4; sigma2 = 0.43282; IC = -0.65894; MSPE = 0.45933\n",
      " r = 5; sigma2 = 0.36201; IC = -0.79305; MSPE = 0.38456\n",
      "\n",
      " r* = 5\n",
      "\n",
      "[1] 90\n"
     ]
    },
    {
     "name": "stderr",
     "output_type": "stream",
     "text": [
      "Joining, by = c(\"id\", \"time\")\n",
      "\n"
     ]
    },
    {
     "name": "stdout",
     "output_type": "stream",
     "text": [
      "Cross-validating ... \n",
      " r = 2; sigma2 = 0.72736; IC = -0.22902; MSPE = 0.79226\n",
      " r = 3; sigma2 = 0.57054; IC = -0.42727; MSPE = 0.58395\n",
      " r = 4; sigma2 = 0.42814; IC = -0.66981; MSPE = 0.47759\n",
      " r = 5; sigma2 = 0.35921; IC = -0.80083; MSPE = 0.39476\n",
      "\n",
      " r* = 5\n",
      "\n",
      "[1] 91\n"
     ]
    },
    {
     "name": "stderr",
     "output_type": "stream",
     "text": [
      "Joining, by = c(\"id\", \"time\")\n",
      "\n"
     ]
    },
    {
     "name": "stdout",
     "output_type": "stream",
     "text": [
      "Cross-validating ... \n",
      " r = 2; sigma2 = 0.73599; IC = -0.21723; MSPE = 0.75155\n",
      " r = 3; sigma2 = 0.56829; IC = -0.43121; MSPE = 0.58621\n",
      " r = 4; sigma2 = 0.43342; IC = -0.65755; MSPE = 0.45617\n",
      " r = 5; sigma2 = 0.36199; IC = -0.79311; MSPE = 0.38462\n",
      "\n",
      " r* = 5\n",
      "\n",
      "[1] 92\n"
     ]
    },
    {
     "name": "stderr",
     "output_type": "stream",
     "text": [
      "Joining, by = c(\"id\", \"time\")\n",
      "\n"
     ]
    },
    {
     "name": "stdout",
     "output_type": "stream",
     "text": [
      "Cross-validating ... \n",
      " r = 2; sigma2 = 0.72845; IC = -0.22753; MSPE = 0.78063\n",
      " r = 3; sigma2 = 0.57298; IC = -0.42299; MSPE = 0.56301\n",
      " r = 4; sigma2 = 0.43650; IC = -0.65047; MSPE = 0.43829\n",
      " r = 5; sigma2 = 0.36501; IC = -0.78481; MSPE = 0.36714\n",
      "\n",
      " r* = 5\n",
      "\n",
      "[1] 93\n"
     ]
    },
    {
     "name": "stderr",
     "output_type": "stream",
     "text": [
      "Joining, by = c(\"id\", \"time\")\n",
      "\n"
     ]
    },
    {
     "name": "stdout",
     "output_type": "stream",
     "text": [
      "Cross-validating ... \n",
      " r = 2; sigma2 = 0.70352; IC = -0.26235; MSPE = 0.89237\n",
      " r = 3; sigma2 = 0.54941; IC = -0.46500; MSPE = 0.67405\n",
      " r = 4; sigma2 = 0.41716; IC = -0.69580; MSPE = 0.52682\n",
      " r = 5; sigma2 = 0.34849; IC = -0.83113; MSPE = 0.44252\n",
      "\n",
      " r* = 5\n",
      "\n",
      "[1] 94\n"
     ]
    },
    {
     "name": "stderr",
     "output_type": "stream",
     "text": [
      "Joining, by = c(\"id\", \"time\")\n",
      "\n"
     ]
    },
    {
     "name": "stdout",
     "output_type": "stream",
     "text": [
      "Cross-validating ... \n",
      " r = 2; sigma2 = 0.72386; IC = -0.23386; MSPE = 0.80659\n",
      " r = 3; sigma2 = 0.56230; IC = -0.44180; MSPE = 0.61549\n",
      " r = 4; sigma2 = 0.42615; IC = -0.67448; MSPE = 0.48606\n",
      " r = 5; sigma2 = 0.35670; IC = -0.80782; MSPE = 0.40633\n",
      "\n",
      " r* = 5\n",
      "\n",
      "[1] 95\n"
     ]
    },
    {
     "name": "stderr",
     "output_type": "stream",
     "text": [
      "Joining, by = c(\"id\", \"time\")\n",
      "\n"
     ]
    },
    {
     "name": "stdout",
     "output_type": "stream",
     "text": [
      "Cross-validating ... \n",
      " r = 2; sigma2 = 0.72655; IC = -0.23014; MSPE = 0.79886\n",
      " r = 3; sigma2 = 0.56816; IC = -0.43144; MSPE = 0.59285\n",
      " r = 4; sigma2 = 0.42936; IC = -0.66696; MSPE = 0.47086\n",
      " r = 5; sigma2 = 0.36043; IC = -0.79744; MSPE = 0.38866\n",
      "\n",
      " r* = 5\n",
      "\n",
      "[1] 96\n"
     ]
    },
    {
     "name": "stderr",
     "output_type": "stream",
     "text": [
      "Joining, by = c(\"id\", \"time\")\n",
      "\n"
     ]
    },
    {
     "name": "stdout",
     "output_type": "stream",
     "text": [
      "Cross-validating ... \n",
      " r = 2; sigma2 = 0.72845; IC = -0.22754; MSPE = 0.78651\n",
      " r = 3; sigma2 = 0.56264; IC = -0.44121; MSPE = 0.61283\n",
      " r = 4; sigma2 = 0.42831; IC = -0.66942; MSPE = 0.47626\n",
      " r = 5; sigma2 = 0.35778; IC = -0.80480; MSPE = 0.40112\n",
      "\n",
      " r* = 5\n",
      "\n",
      "[1] 97\n"
     ]
    },
    {
     "name": "stderr",
     "output_type": "stream",
     "text": [
      "Joining, by = c(\"id\", \"time\")\n",
      "\n"
     ]
    },
    {
     "name": "stdout",
     "output_type": "stream",
     "text": [
      "Cross-validating ... \n",
      " r = 2; sigma2 = 0.74186; IC = -0.20929; MSPE = 0.73459\n",
      " r = 3; sigma2 = 0.57564; IC = -0.41835; MSPE = 0.56353\n",
      " r = 4; sigma2 = 0.43683; IC = -0.64972; MSPE = 0.44496\n",
      " r = 5; sigma2 = 0.36372; IC = -0.78833; MSPE = 0.38161\n",
      "\n",
      " r* = 5\n",
      "\n",
      "[1] 98\n"
     ]
    },
    {
     "name": "stderr",
     "output_type": "stream",
     "text": [
      "Joining, by = c(\"id\", \"time\")\n",
      "\n"
     ]
    },
    {
     "name": "stdout",
     "output_type": "stream",
     "text": [
      "Cross-validating ... \n",
      " r = 2; sigma2 = 0.73521; IC = -0.21830; MSPE = 0.76419\n",
      " r = 3; sigma2 = 0.57448; IC = -0.42038; MSPE = 0.56916\n",
      " r = 4; sigma2 = 0.43386; IC = -0.65655; MSPE = 0.45295\n",
      " r = 5; sigma2 = 0.36269; IC = -0.79117; MSPE = 0.37965\n",
      "\n",
      " r* = 5\n",
      "\n",
      "[1] 99\n"
     ]
    },
    {
     "name": "stderr",
     "output_type": "stream",
     "text": [
      "Joining, by = c(\"id\", \"time\")\n",
      "\n"
     ]
    },
    {
     "name": "stdout",
     "output_type": "stream",
     "text": [
      "Cross-validating ... \n",
      " r = 2; sigma2 = 0.72684; IC = -0.22974; MSPE = 0.78802\n",
      " r = 3; sigma2 = 0.56479; IC = -0.43740; MSPE = 0.60101\n",
      " r = 4; sigma2 = 0.42989; IC = -0.66573; MSPE = 0.47063\n",
      " r = 5; sigma2 = 0.35959; IC = -0.79976; MSPE = 0.39329\n",
      "\n",
      " r* = 5\n",
      "\n",
      "[1] 100\n"
     ]
    }
   ],
   "source": [
    "valueMatrix <- array(NA, dim=c(5, numberOfIterations),\n",
    "                     dimnames=c(list(c('MC-NNM', 'Synthetic Control', \n",
    "                                 'Generalized Synthetic Control', 'Synthetic Difference in Differences',\n",
    "                                 'LAPIS')), list(paste('Iteration', 1:numberOfIterations, sep='_'))))\n",
    "\n",
    "\n",
    "for (simNumber in 1:numberOfIterations){\n",
    "    \n",
    "    numberTreat <- floor(dim(fullOutcomeData)[1]*propTreat)\n",
    "\n",
    "    numberUntreat <- dim(fullOutcomeData)[1]-numberTreat\n",
    "\n",
    "    durations <- c(rep(0, numberUntreat) , rbinom(numberTreat, 100, .3))\n",
    "\n",
    "    #durations <- 40*rbern(dim(fullOutcomeData)[1], propTreat)\n",
    "\n",
    "    durations <- sample(durations, size=length(durations), replace=FALSE)\n",
    "    \n",
    "    \n",
    "    D <- array(0, dim=dim(fullOutcomeData))\n",
    "\n",
    "    dimnames(D) <- dimnames(fullOutcomeData)\n",
    "\n",
    "    for (i in 1:length(durations)){\n",
    "    \n",
    "        allTimes <- 1:dim(D)[2]\n",
    "    \n",
    "        D[i, dim(D)[2]-durations[i]+1 <= allTimes] <- 1\n",
    "    }\n",
    "    \n",
    "    observedData<- t(sapply(1:dim(fullOutcomeData)[1], FUN=function(x) seriesWithUnemploymentDecay(aSeries=fullOutcomeData[x,], \n",
    "                                                                                          finalProp=.6, decayRate=.05, \n",
    "                                    treatmentIndexer = D[x,])))\n",
    "                                        \n",
    "    dimnames(observedData) <- dimnames(fullOutcomeData)  \n",
    "    \n",
    "    meltedD <- melt(D) \n",
    "\n",
    "    names(meltedD) <- c('id', 'time', 'treated')\n",
    "\n",
    "    meltedObservedData <- melt(observedData)\n",
    "\n",
    "    names(meltedObservedData) <- c('id', 'time', 'adj_unemp')\n",
    "\n",
    "    joinedDataForGsynth <- meltedD %>% inner_join(meltedObservedData)\n",
    "\n",
    "    withMu <- LAPIS(Y=observedData, W=D)\n",
    "\n",
    "    mcnnm_info <- matrix_completion_causal(Y=observedData, W=D)\n",
    "\n",
    "    mcnnm_est <- treat.estimator(observedData, mcnnm_info$L_hat, D)\n",
    "\n",
    "    synthContEst <- synth_cont(Y=observedData, W=D)\n",
    "\n",
    "    gsynthInfo <- gsynth(adj_unemp~treated, data=joinedDataForGsynth, index=c('id', 'time'), \n",
    "                         parallel = TRUE,\n",
    "                        r=rankMatrix(mcnnm_info$L_hat)[1])\n",
    "\n",
    "    gsynthContEst <- gsynthInfo$att\n",
    "                            \n",
    "    relevantgsynthcontEst <- gsynthContEst[which(names(gsynthContEst)==1):length(gsynthContEst)]\n",
    "\n",
    "    SDIDEst <- SDID_general(Y=observedData, W=D,\n",
    "                     iterations_for_coord_desc=100)\n",
    "\n",
    "    trueEffect <- treat.estimator(observedData, fullOutcomeData, D)\n",
    "                            \n",
    "                            \n",
    "    errorsThisIteration <- c(mean((mcnnm_est-trueEffect)[1:timeConsidered]^2), \n",
    "                             mean((synthContEst-trueEffect)[1:timeConsidered]^2),\n",
    "                             mean((relevantgsynthcontEst-trueEffect)[1:timeConsidered]^2),\n",
    "                             mean((SDIDEst-trueEffect)[1:timeConsidered]^2),\n",
    "                             mean((withMu-trueEffect)[1:timeConsidered]^2))\n",
    "                            \n",
    "                            \n",
    "    valueMatrix[ , simNumber] <- errorsThisIteration\n",
    "                            \n",
    "    print(simNumber)\n",
    " \n",
    "    }"
   ]
  },
  {
   "cell_type": "code",
   "execution_count": 25,
   "metadata": {},
   "outputs": [],
   "source": [
    "oneYearOfAdoption <- rownames(D)[rowSums(D) >= 12 ]\n",
    "CACountiesThatAdopted <- validSmoothedDataOnly %>% filter(region_code %in% oneYearOfAdoption & state=='CA')\n",
    "\n",
    "countyOfInterest <- sample(CACountiesThatAdopted$region_code, 1)"
   ]
  },
  {
   "cell_type": "code",
   "execution_count": 26,
   "metadata": {},
   "outputs": [],
   "source": [
    "adoptionTime <- as.numeric(colnames(D)[max(which((D[countyOfInterest, ]==0)))])"
   ]
  },
  {
   "cell_type": "code",
   "execution_count": 27,
   "metadata": {},
   "outputs": [],
   "source": [
    "unempVals <- as.numeric(c(observedData[countyOfInterest ,], fullOutcomeData[countyOfInterest, ]))\n",
    "times <- as.numeric(rep(colnames(D), 2))\n",
    "treatVals <- rep(c(\"Observed\", \"Untreated Potential Outcome\"), each=dim(D)[2])"
   ]
  },
  {
   "cell_type": "code",
   "execution_count": 28,
   "metadata": {},
   "outputs": [],
   "source": [
    "adoptionDataCountyExample <- cbind.data.frame(times, treatVals, unempVals)\n",
    "\n",
    "names(adoptionDataCountyExample) <- c('Time', 'Outcome', 'Unemployment')"
   ]
  },
  {
   "cell_type": "code",
   "execution_count": 29,
   "metadata": {},
   "outputs": [],
   "source": [
    "adoptionExamplePlot <- ggplot(adoptionDataCountyExample %>% filter(Time >= adoptionTime-36/12), \n",
    "                              aes(x=Time, y=Unemployment, col=Outcome, lty=Outcome)) + \n",
    "geom_line(lwd=2) + theme_bw(base_size=20) + ylab('Unemployment Rate (Seasonally Adjusted)') + xlab('Time') +\n",
    " ggtitle(\"A Successful Retraining Program?\") + geom_vline(xintercept = adoptionTime, lwd=1.25) \n"
   ]
  },
  {
   "cell_type": "code",
   "execution_count": 30,
   "metadata": {},
   "outputs": [
    {
     "data": {
      "image/png": "[encoded data removed]",
      "text/plain": [
       "plot without title"
      ]
     },
     "metadata": {
      "image/png": {
       "height": 420,
       "width": 420
      },
      "text/plain": {
       "height": 420,
       "width": 420
      }
     },
     "output_type": "display_data"
    }
   ],
   "source": [
    "adoptionExamplePlot"
   ]
  },
  {
   "cell_type": "code",
   "execution_count": 31,
   "metadata": {},
   "outputs": [
    {
     "data": {
      "image/png": "[encoded data removed]",
      "text/plain": [
       "plot without title"
      ]
     },
     "metadata": {
      "image/png": {
       "height": 420,
       "width": 420
      },
      "text/plain": {
       "height": 420,
       "width": 420
      }
     },
     "output_type": "display_data"
    }
   ],
   "source": [
    "meltedErrors <- melt(valueMatrix)\n",
    "\n",
    "names(meltedErrors) <- c('Method', 'Itertation', 'MSE')\n",
    "\n",
    "ggplot(meltedErrors, aes(x=Method, y=MSE, fill=Method)) + geom_boxplot() + theme_bw(base_size=12)"
   ]
  },
  {
   "cell_type": "code",
   "execution_count": 32,
   "metadata": {},
   "outputs": [],
   "source": [
    "aggregatedErrors <- meltedErrors %>% group_by(Method) %>% summarize(RMSE = round(sqrt(mean(MSE, na.rm=T)), 3),\n",
    "                                               SE = round(sd(MSE, na.rm=T)/n(), 3))"
   ]
  },
  {
   "cell_type": "code",
   "execution_count": 33,
   "metadata": {},
   "outputs": [],
   "source": [
    "aggregatedErrors$`RMSE (SE)` <- paste(aggregatedErrors$RMSE, ' (', aggregatedErrors$SE, ')', sep='')\n",
    "\n",
    "aggregatedErrors$Method <- factor(aggregatedErrors$Method, levels=c(\"Synthetic Control\", 'Generalized Synthetic Control',\n",
    "                                                            'Synthetic Difference in Differences',\n",
    "                                                            'MC-NNM', 'LAPIS'))\n",
    "\n",
    "\n",
    "aggregatedErrors <- aggregatedErrors[order(aggregatedErrors$Method), ]"
   ]
  },
  {
   "cell_type": "code",
   "execution_count": 34,
   "metadata": {},
   "outputs": [],
   "source": [
    "tableForLatex <- aggregatedErrors[, c('Method', 'RMSE (SE)')]"
   ]
  },
  {
   "cell_type": "code",
   "execution_count": 35,
   "metadata": {},
   "outputs": [],
   "source": [
    "latexRMSETable <- knitr::kable(tableForLatex, format='latex')"
   ]
  },
  {
   "cell_type": "code",
   "execution_count": 36,
   "metadata": {},
   "outputs": [],
   "source": [
    "estData <- c(synthContEst, relevantgsynthcontEst, SDIDEst, mcnnm_est, withMu, trueEffect)\n",
    "\n",
    "methodValues <- rep(c(\"Synthetic Control\", 'Generalized Synthetic Control',\n",
    "                                                            'Synthetic Difference in Differences',\n",
    "                                                            'MC-NNM', 'LAPIS', 'Truth'), each=length(trueEffect))\n",
    "\n",
    "relativeTime <- rep(1:length(trueEffect), length.out=length(methodValues))"
   ]
  },
  {
   "cell_type": "code",
   "execution_count": 37,
   "metadata": {},
   "outputs": [],
   "source": [
    "plotExample <- cbind.data.frame(methodValues, relativeTime ,estData)\n",
    "\n",
    "names(plotExample) <- c('Method', 'Time', 'Change in Seasonally Adjusted Unemployment Rate')\n",
    "\n",
    "plotExample <- plotExample %>% filter(Time <= timeConsidered)"
   ]
  },
  {
   "cell_type": "code",
   "execution_count": 38,
   "metadata": {},
   "outputs": [],
   "source": [
    "effectPlot <- ggplot(plotExample, aes(x=Time, y=`Change in Seasonally Adjusted Unemployment Rate`, col=Method)) + \n",
    "geom_line(lwd=2) + theme_bw(base_size=20)"
   ]
  },
  {
   "cell_type": "code",
   "execution_count": 42,
   "metadata": {},
   "outputs": [],
   "source": [
    "adoptionDurations <- rowSums(D)"
   ]
  },
  {
   "cell_type": "code",
   "execution_count": 49,
   "metadata": {},
   "outputs": [],
   "source": [
    "adoptionDistribution <- table(adoptionDurations)"
   ]
  },
  {
   "cell_type": "code",
   "execution_count": 66,
   "metadata": {},
   "outputs": [],
   "source": [
    "adoptDistData <- cbind.data.frame(as.numeric(names(adoptionDistribution)), as.numeric(adoptionDistribution))\n",
    "\n",
    "names(adoptDistData) <- c('Duration', 'Count')"
   ]
  },
  {
   "cell_type": "code",
   "execution_count": 71,
   "metadata": {},
   "outputs": [],
   "source": [
    "adoptDistExamp <- ggplot(adoptDistData, aes(x=Duration, y=log(Count))) + geom_bar(stat=\"identity\",width=.1) + \n",
    "geom_point() + theme_bw(base_size=20) + theme(axis.title.y=element_blank(),\n",
    "        axis.text.y=element_blank(),\n",
    "        axis.ticks.y=element_blank()) + xlab(\"Adoption Duration\") + ggtitle(\"Adoption of a Job Retraining Program\")"
   ]
  },
  {
   "cell_type": "code",
   "execution_count": 72,
   "metadata": {},
   "outputs": [
    {
     "data": {
      "image/png": "[encoded data removed]",
      "text/plain": [
       "plot without title"
      ]
     },
     "metadata": {
      "image/png": {
       "height": 420,
       "width": 420
      },
      "text/plain": {
       "height": 420,
       "width": 420
      }
     },
     "output_type": "display_data"
    }
   ],
   "source": [
    "adoptDistExamp "
   ]
  },
  {
   "cell_type": "code",
   "execution_count": 39,
   "metadata": {},
   "outputs": [
    {
     "name": "stderr",
     "output_type": "stream",
     "text": [
      "Warning message in dir.create(\"plots_and_tables\"):\n",
      "“'plots_and_tables' already exists”\n"
     ]
    }
   ],
   "source": [
    "if (!exists('./plots_and_tables')){\n",
    "    \n",
    "    \n",
    "    dir.create('plots_and_tables')\n",
    "}"
   ]
  },
  {
   "cell_type": "code",
   "execution_count": 73,
   "metadata": {},
   "outputs": [
    {
     "name": "stderr",
     "output_type": "stream",
     "text": [
      "Warning message:\n",
      "“Removed 110 row(s) containing missing values (geom_path).”\n"
     ]
    }
   ],
   "source": [
    "ggsave('plots_and_tables/unemployment_change.pdf', effectPlot, width=11, height=8.5 )\n",
    "ggsave('plots_and_tables/unemployment_change.pdf', socalUnempPlot, width=11, height=8.5)\n",
    "ggsave('plots_and_tables/program_adoption_example.pdf', adoptionExamplePlot, width=11, height=8.5)\n",
    "ggsave('plots_and_tables/adoption_curve_example.pdf', adoptDistExamp, width=11, height=8.5)\n",
    "\n",
    "fileConn<-file('plots_and_tables/unemployment_error_table.txt')\n",
    "writeLines(latexRMSETable, fileConn)\n",
    "close(fileConn)"
   ]
  },
  {
   "cell_type": "code",
   "execution_count": null,
   "metadata": {},
   "outputs": [],
   "source": []
  },
  {
   "cell_type": "code",
   "execution_count": null,
   "metadata": {},
   "outputs": [],
   "source": []
  },
  {
   "cell_type": "code",
   "execution_count": null,
   "metadata": {},
   "outputs": [],
   "source": []
  }
 ],
 "metadata": {
  "kernelspec": {
   "display_name": "R",
   "language": "R",
   "name": "ir"
  },
  "language_info": {
   "codemirror_mode": "r",
   "file_extension": ".r",
   "mimetype": "text/x-r-source",
   "name": "R",
   "pygments_lexer": "r",
   "version": "3.6.3"
  }
 },
 "nbformat": 4,
 "nbformat_minor": 4
}
